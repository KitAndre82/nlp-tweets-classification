{
 "cells": [
  {
   "cell_type": "code",
   "execution_count": 2,
   "id": "703b31ee",
   "metadata": {},
   "outputs": [],
   "source": [
    "import pandas as pd"
   ]
  },
  {
   "cell_type": "code",
   "execution_count": 6,
   "id": "329a11be",
   "metadata": {},
   "outputs": [],
   "source": [
    "# Load dataset\n",
    "df = pd.read_csv('/Users/andrew/Downloads/from_bigquery_bbc.csv')"
   ]
  },
  {
   "cell_type": "code",
   "execution_count": 7,
   "id": "983ab6c9",
   "metadata": {},
   "outputs": [
    {
     "data": {
      "text/html": [
       "<div>\n",
       "<style scoped>\n",
       "    .dataframe tbody tr th:only-of-type {\n",
       "        vertical-align: middle;\n",
       "    }\n",
       "\n",
       "    .dataframe tbody tr th {\n",
       "        vertical-align: top;\n",
       "    }\n",
       "\n",
       "    .dataframe thead th {\n",
       "        text-align: right;\n",
       "    }\n",
       "</style>\n",
       "<table border=\"1\" class=\"dataframe\">\n",
       "  <thead>\n",
       "    <tr style=\"text-align: right;\">\n",
       "      <th></th>\n",
       "      <th>body</th>\n",
       "      <th>title</th>\n",
       "      <th>filename</th>\n",
       "      <th>category</th>\n",
       "    </tr>\n",
       "  </thead>\n",
       "  <tbody>\n",
       "    <tr>\n",
       "      <th>0</th>\n",
       "      <td>The global web blog community is being called ...</td>\n",
       "      <td>Global blogger action day called</td>\n",
       "      <td>bbc/tech/016.txt</td>\n",
       "      <td>tech</td>\n",
       "    </tr>\n",
       "    <tr>\n",
       "      <th>1</th>\n",
       "      <td>The \"digital divide\" between rich and poor nat...</td>\n",
       "      <td>Global digital divide 'narrowing'</td>\n",
       "      <td>bbc/tech/033.txt</td>\n",
       "      <td>tech</td>\n",
       "    </tr>\n",
       "    <tr>\n",
       "      <th>2</th>\n",
       "      <td>The current slew of sports games offers unpara...</td>\n",
       "      <td>Sporting rivals go to extra time</td>\n",
       "      <td>bbc/tech/056.txt</td>\n",
       "      <td>tech</td>\n",
       "    </tr>\n",
       "    <tr>\n",
       "      <th>3</th>\n",
       "      <td>Writing a Microsoft Word document can be a dan...</td>\n",
       "      <td>Warning over Windows Word files</td>\n",
       "      <td>bbc/tech/086.txt</td>\n",
       "      <td>tech</td>\n",
       "    </tr>\n",
       "    <tr>\n",
       "      <th>4</th>\n",
       "      <td>Aid workers trying to house, feed and clothe m...</td>\n",
       "      <td>Satellite mapping aids Darfur relief</td>\n",
       "      <td>bbc/tech/223.txt</td>\n",
       "      <td>tech</td>\n",
       "    </tr>\n",
       "  </tbody>\n",
       "</table>\n",
       "</div>"
      ],
      "text/plain": [
       "                                                body  \\\n",
       "0  The global web blog community is being called ...   \n",
       "1  The \"digital divide\" between rich and poor nat...   \n",
       "2  The current slew of sports games offers unpara...   \n",
       "3  Writing a Microsoft Word document can be a dan...   \n",
       "4  Aid workers trying to house, feed and clothe m...   \n",
       "\n",
       "                                  title          filename category  \n",
       "0      Global blogger action day called  bbc/tech/016.txt     tech  \n",
       "1     Global digital divide 'narrowing'  bbc/tech/033.txt     tech  \n",
       "2      Sporting rivals go to extra time  bbc/tech/056.txt     tech  \n",
       "3       Warning over Windows Word files  bbc/tech/086.txt     tech  \n",
       "4  Satellite mapping aids Darfur relief  bbc/tech/223.txt     tech  "
      ]
     },
     "execution_count": 7,
     "metadata": {},
     "output_type": "execute_result"
    }
   ],
   "source": [
    "# View first 5 rows of dataframe\n",
    "df.head()"
   ]
  },
  {
   "cell_type": "code",
   "execution_count": 12,
   "id": "6e0f53e3",
   "metadata": {},
   "outputs": [],
   "source": [
    "df_tech = df[df['filename'].str.contains('tech')]"
   ]
  },
  {
   "cell_type": "code",
   "execution_count": 13,
   "id": "42d16c1b",
   "metadata": {},
   "outputs": [
    {
     "data": {
      "text/plain": [
       "(401, 4)"
      ]
     },
     "execution_count": 13,
     "metadata": {},
     "output_type": "execute_result"
    }
   ],
   "source": [
    "df_tech.shape"
   ]
  },
  {
   "cell_type": "code",
   "execution_count": 14,
   "id": "717c80fd",
   "metadata": {},
   "outputs": [
    {
     "data": {
      "text/plain": [
       "(401, 4)"
      ]
     },
     "execution_count": 14,
     "metadata": {},
     "output_type": "execute_result"
    }
   ],
   "source": [
    "df[(df_tech['filename'].str.contains('tech')) & (df['category']=='tech')].shape"
   ]
  },
  {
   "cell_type": "code",
   "execution_count": 17,
   "id": "08583529",
   "metadata": {},
   "outputs": [
    {
     "data": {
      "text/plain": [
       "array(['tech', 'sport', 'business', 'politics', 'entertainment'],\n",
       "      dtype=object)"
      ]
     },
     "execution_count": 17,
     "metadata": {},
     "output_type": "execute_result"
    }
   ],
   "source": [
    "df['category'].unique()"
   ]
  },
  {
   "cell_type": "code",
   "execution_count": null,
   "id": "0f62d7f4",
   "metadata": {},
   "outputs": [],
   "source": []
  },
  {
   "cell_type": "code",
   "execution_count": 8,
   "id": "bc040788",
   "metadata": {},
   "outputs": [
    {
     "data": {
      "text/plain": [
       "Index(['body', 'title', 'filename', 'category'], dtype='object')"
      ]
     },
     "execution_count": 8,
     "metadata": {},
     "output_type": "execute_result"
    }
   ],
   "source": [
    "df.columns"
   ]
  },
  {
   "cell_type": "markdown",
   "id": "84058f7f",
   "metadata": {},
   "source": [
    "The dataset has 4 columns. The 'body' column contains the story. \n",
    "\n",
    "The category columns contains tech, sport, business, politics and entertainment categories."
   ]
  },
  {
   "cell_type": "code",
   "execution_count": 18,
   "id": "6efd3220",
   "metadata": {},
   "outputs": [
    {
     "data": {
      "text/plain": [
       "'DVDs will be harder to copy thanks to new anti-piracy measures devised by copy protection firm Macrovision.\\n\\nThe pirated DVD market is enormous because current copy protection was hacked more than five years ago. Macrovision says its new RipGuard technology will thwart most, but not all, of the current DVD ripping (copying) programs used to pirate DVDs. \"RipGuard is designed to... reduce DVD ripping and the resulting supply of illegal peer to peer,\" said the firm. Macrovision said the new technology will work in \"nearly all\" current DVD players when applied to the discs, but it did not specify how many machines could have a problem with RipGuard. Some BBC News website users have expressed concerns that the new technology will mean that DVDs will not work on PCs running the operating system Linux. The new technology will be welcomed by Hollywood film studios which are increasingly relying on revenue from DVD sales.\\n\\nThe film industry has stepped up efforts to fight DVD piracy in the last 12 months, taking legal action against websites which offer pirated copies of DVD movies for download.\\n\\n\"Ultimately, we see RipGuard DVD... evolving beyond anti-piracy, and towards enablement of legitimate online transactions, interoperability in tomorrow\\'s digital home, and the upcoming high-definition formats,\" said Steve Weinstein, executive vice president and general manager of Macrovision\\'s Entertainment Technologies Group. Macrovision said RipGuard would also prevent against \"rent, rip and return\" - where people would rent a DVD, copy it and then return the original. RipGuard is expected to be rolled out on DVDs from the middle of 2005, the company said. The new system works specifically to block most ripping programs - if used, those programs will now most likely crash, the company said. Macrovision has said that Rip Guard can be updated if hackers find a way around the new anti-copying measures.\\n'"
      ]
     },
     "execution_count": 18,
     "metadata": {},
     "output_type": "execute_result"
    }
   ],
   "source": [
    "# Looking at a single story to get an idea of what to expect \n",
    "df['body'][5]"
   ]
  },
  {
   "cell_type": "code",
   "execution_count": 19,
   "id": "86a02b9d",
   "metadata": {},
   "outputs": [
    {
     "name": "stdout",
     "output_type": "stream",
     "text": [
      "<class 'pandas.core.frame.DataFrame'>\n",
      "RangeIndex: 2225 entries, 0 to 2224\n",
      "Data columns (total 4 columns):\n",
      " #   Column    Non-Null Count  Dtype \n",
      "---  ------    --------------  ----- \n",
      " 0   body      2225 non-null   object\n",
      " 1   title     2225 non-null   object\n",
      " 2   filename  2225 non-null   object\n",
      " 3   category  2225 non-null   object\n",
      "dtypes: object(4)\n",
      "memory usage: 69.7+ KB\n"
     ]
    }
   ],
   "source": [
    "# Looking at metadata of the dataframe \n",
    "df.info()"
   ]
  },
  {
   "cell_type": "markdown",
   "id": "df924f59",
   "metadata": {},
   "source": [
    "From the above, I can see that the dataset has 2225 rows and 4 columns. All of the columns contain object data"
   ]
  },
  {
   "cell_type": "code",
   "execution_count": 21,
   "id": "e085772f",
   "metadata": {},
   "outputs": [],
   "source": [
    "# Creating a new feature called tweet_length\n",
    "df['body_length'] = df['body'].apply(len)"
   ]
  },
  {
   "cell_type": "code",
   "execution_count": 22,
   "id": "0aac5379",
   "metadata": {},
   "outputs": [
    {
     "data": {
      "text/html": [
       "<div>\n",
       "<style scoped>\n",
       "    .dataframe tbody tr th:only-of-type {\n",
       "        vertical-align: middle;\n",
       "    }\n",
       "\n",
       "    .dataframe tbody tr th {\n",
       "        vertical-align: top;\n",
       "    }\n",
       "\n",
       "    .dataframe thead th {\n",
       "        text-align: right;\n",
       "    }\n",
       "</style>\n",
       "<table border=\"1\" class=\"dataframe\">\n",
       "  <thead>\n",
       "    <tr style=\"text-align: right;\">\n",
       "      <th></th>\n",
       "      <th>body</th>\n",
       "      <th>title</th>\n",
       "      <th>filename</th>\n",
       "      <th>category</th>\n",
       "      <th>body_length</th>\n",
       "    </tr>\n",
       "  </thead>\n",
       "  <tbody>\n",
       "    <tr>\n",
       "      <th>0</th>\n",
       "      <td>The global web blog community is being called ...</td>\n",
       "      <td>Global blogger action day called</td>\n",
       "      <td>bbc/tech/016.txt</td>\n",
       "      <td>tech</td>\n",
       "      <td>3930</td>\n",
       "    </tr>\n",
       "    <tr>\n",
       "      <th>1</th>\n",
       "      <td>The \"digital divide\" between rich and poor nat...</td>\n",
       "      <td>Global digital divide 'narrowing'</td>\n",
       "      <td>bbc/tech/033.txt</td>\n",
       "      <td>tech</td>\n",
       "      <td>2060</td>\n",
       "    </tr>\n",
       "    <tr>\n",
       "      <th>2</th>\n",
       "      <td>The current slew of sports games offers unpara...</td>\n",
       "      <td>Sporting rivals go to extra time</td>\n",
       "      <td>bbc/tech/056.txt</td>\n",
       "      <td>tech</td>\n",
       "      <td>3494</td>\n",
       "    </tr>\n",
       "    <tr>\n",
       "      <th>3</th>\n",
       "      <td>Writing a Microsoft Word document can be a dan...</td>\n",
       "      <td>Warning over Windows Word files</td>\n",
       "      <td>bbc/tech/086.txt</td>\n",
       "      <td>tech</td>\n",
       "      <td>2904</td>\n",
       "    </tr>\n",
       "    <tr>\n",
       "      <th>4</th>\n",
       "      <td>Aid workers trying to house, feed and clothe m...</td>\n",
       "      <td>Satellite mapping aids Darfur relief</td>\n",
       "      <td>bbc/tech/223.txt</td>\n",
       "      <td>tech</td>\n",
       "      <td>3061</td>\n",
       "    </tr>\n",
       "  </tbody>\n",
       "</table>\n",
       "</div>"
      ],
      "text/plain": [
       "                                                body  \\\n",
       "0  The global web blog community is being called ...   \n",
       "1  The \"digital divide\" between rich and poor nat...   \n",
       "2  The current slew of sports games offers unpara...   \n",
       "3  Writing a Microsoft Word document can be a dan...   \n",
       "4  Aid workers trying to house, feed and clothe m...   \n",
       "\n",
       "                                  title          filename category  \\\n",
       "0      Global blogger action day called  bbc/tech/016.txt     tech   \n",
       "1     Global digital divide 'narrowing'  bbc/tech/033.txt     tech   \n",
       "2      Sporting rivals go to extra time  bbc/tech/056.txt     tech   \n",
       "3       Warning over Windows Word files  bbc/tech/086.txt     tech   \n",
       "4  Satellite mapping aids Darfur relief  bbc/tech/223.txt     tech   \n",
       "\n",
       "   body_length  \n",
       "0         3930  \n",
       "1         2060  \n",
       "2         3494  \n",
       "3         2904  \n",
       "4         3061  "
      ]
     },
     "execution_count": 22,
     "metadata": {},
     "output_type": "execute_result"
    }
   ],
   "source": [
    "# Checking that last action did not introduce an error\n",
    "df.head()"
   ]
  },
  {
   "cell_type": "code",
   "execution_count": 23,
   "id": "784754be",
   "metadata": {},
   "outputs": [],
   "source": [
    "import seaborn as sns\n",
    "import matplotlib.pyplot as plt"
   ]
  },
  {
   "cell_type": "code",
   "execution_count": 24,
   "id": "09d80a1e",
   "metadata": {},
   "outputs": [
    {
     "data": {
      "image/png": "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",
      "text/plain": [
       "<Figure size 640x480 with 1 Axes>"
      ]
     },
     "metadata": {},
     "output_type": "display_data"
    }
   ],
   "source": [
    "# Visualing average tweet length by class\n",
    "sns.barplot(df,x='category',y='body_length')\n",
    "plt.title('Average story length by category')\n",
    "plt.show()"
   ]
  },
  {
   "cell_type": "code",
   "execution_count": 36,
   "id": "8b70036b",
   "metadata": {},
   "outputs": [
    {
     "data": {
      "text/plain": [
       "2231.793258426966"
      ]
     },
     "execution_count": 36,
     "metadata": {},
     "output_type": "execute_result"
    }
   ],
   "source": [
    "df['body_length'].mean()"
   ]
  },
  {
   "cell_type": "code",
   "execution_count": 35,
   "id": "67d31de1",
   "metadata": {},
   "outputs": [
    {
     "data": {
      "text/plain": [
       "<Axes: >"
      ]
     },
     "execution_count": 35,
     "metadata": {},
     "output_type": "execute_result"
    },
    {
     "data": {
      "image/png": "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",
      "text/plain": [
       "<Figure size 640x480 with 1 Axes>"
      ]
     },
     "metadata": {},
     "output_type": "display_data"
    }
   ],
   "source": [
    "df[df['category'] == 'tech']['body_length'].plot(kind='box')"
   ]
  },
  {
   "cell_type": "code",
   "execution_count": 40,
   "id": "25c0a143",
   "metadata": {},
   "outputs": [
    {
     "data": {
      "text/plain": [
       "<Axes: >"
      ]
     },
     "execution_count": 40,
     "metadata": {},
     "output_type": "execute_result"
    },
    {
     "data": {
      "image/png": "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",
      "text/plain": [
       "<Figure size 640x480 with 1 Axes>"
      ]
     },
     "metadata": {},
     "output_type": "display_data"
    }
   ],
   "source": [
    "df[df['category'] == 'politics']['body_length'].plot(kind='box')"
   ]
  },
  {
   "cell_type": "code",
   "execution_count": 41,
   "id": "a5185ac5",
   "metadata": {},
   "outputs": [
    {
     "data": {
      "text/plain": [
       "<Axes: >"
      ]
     },
     "execution_count": 41,
     "metadata": {},
     "output_type": "execute_result"
    },
    {
     "data": {
      "image/png": "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",
      "text/plain": [
       "<Figure size 640x480 with 1 Axes>"
      ]
     },
     "metadata": {},
     "output_type": "display_data"
    }
   ],
   "source": [
    "df[df['category'] == 'entertainment']['body_length'].plot(kind='box')"
   ]
  },
  {
   "cell_type": "code",
   "execution_count": 44,
   "id": "f1651ea4",
   "metadata": {},
   "outputs": [
    {
     "data": {
      "text/plain": [
       "category\n",
       "business         510\n",
       "entertainment    386\n",
       "politics         417\n",
       "sport            511\n",
       "tech             401\n",
       "Name: body, dtype: int64"
      ]
     },
     "execution_count": 44,
     "metadata": {},
     "output_type": "execute_result"
    }
   ],
   "source": [
    "# Number of tweets by class\n",
    "df.groupby('category').count()['body']"
   ]
  },
  {
   "cell_type": "code",
   "execution_count": 46,
   "id": "2d85d2e9",
   "metadata": {},
   "outputs": [
    {
     "data": {
      "text/plain": [
       "1589"
      ]
     },
     "execution_count": 46,
     "metadata": {},
     "output_type": "execute_result"
    }
   ],
   "source": [
    "# Maximum tweet length\n",
    "max_index = df['body_length'].idxmax()\n",
    "max_index"
   ]
  },
  {
   "cell_type": "code",
   "execution_count": 60,
   "id": "cdce5d47",
   "metadata": {},
   "outputs": [],
   "source": [
    "df['story_edited'] = df['body'].apply(lambda x: x.replace('\\n',''))"
   ]
  },
  {
   "cell_type": "code",
   "execution_count": 63,
   "id": "ad42a068",
   "metadata": {},
   "outputs": [
    {
     "data": {
      "text/html": [
       "<div>\n",
       "<style scoped>\n",
       "    .dataframe tbody tr th:only-of-type {\n",
       "        vertical-align: middle;\n",
       "    }\n",
       "\n",
       "    .dataframe tbody tr th {\n",
       "        vertical-align: top;\n",
       "    }\n",
       "\n",
       "    .dataframe thead th {\n",
       "        text-align: right;\n",
       "    }\n",
       "</style>\n",
       "<table border=\"1\" class=\"dataframe\">\n",
       "  <thead>\n",
       "    <tr style=\"text-align: right;\">\n",
       "      <th></th>\n",
       "      <th>body</th>\n",
       "      <th>title</th>\n",
       "      <th>filename</th>\n",
       "      <th>category</th>\n",
       "      <th>body_length</th>\n",
       "      <th>story_edited</th>\n",
       "    </tr>\n",
       "  </thead>\n",
       "  <tbody>\n",
       "    <tr>\n",
       "      <th>0</th>\n",
       "      <td>The global web blog community is being called ...</td>\n",
       "      <td>Global blogger action day called</td>\n",
       "      <td>bbc/tech/016.txt</td>\n",
       "      <td>tech</td>\n",
       "      <td>3930</td>\n",
       "      <td>The global web blog community is being called ...</td>\n",
       "    </tr>\n",
       "  </tbody>\n",
       "</table>\n",
       "</div>"
      ],
      "text/plain": [
       "                                                body  \\\n",
       "0  The global web blog community is being called ...   \n",
       "\n",
       "                              title          filename category  body_length  \\\n",
       "0  Global blogger action day called  bbc/tech/016.txt     tech         3930   \n",
       "\n",
       "                                        story_edited  \n",
       "0  The global web blog community is being called ...  "
      ]
     },
     "execution_count": 63,
     "metadata": {},
     "output_type": "execute_result"
    }
   ],
   "source": [
    "df.head(1)"
   ]
  },
  {
   "cell_type": "code",
   "execution_count": null,
   "id": "916cf28c",
   "metadata": {},
   "outputs": [],
   "source": []
  },
  {
   "cell_type": "code",
   "execution_count": 68,
   "id": "54783106",
   "metadata": {},
   "outputs": [
    {
     "data": {
      "text/plain": [
       "'The Lord Chancellor has defended government plans to introduce control orders to keep foreign and British terrorist suspects under house arrest, where there isn\\'t enough evidence to put them on trial.Lord Falconer insists that the proposals do not equate to a police state and strike a balance between protecting the public against the threat of terrorism and upholding civil liberties. But thriller writer Frederick Forsyth tells BBC News of his personal response to the move.There is a mortal danger aimed at the heart of Britain. Or so says Home Secretary Charles Clarke. My reaction? So what? It is not that I am cynical or just do not care. I care about this country very much.But in the 66 years that I have been alive, there has not been one hour, of one day, of one month, of one year, when there has not been a threat aimed at us. My point is, the British have always coped without becoming a dictatorship. We have coped with fear without becoming a state based on fear; we have coped with threat without turning our country into a land of state threat. But that is what the Blair government now seeks to do - create a tyranny to defend us from the al-Qaeda tyranny.I was born on 25 August, 1938. The mortal threat back then was a scruffy little Austrian called Adolf Hitler. A week after my first birthday, the threat had become reality. We were at war. My father wore a uniform for five years. After 1945 we yearned for peace at last. But in 1946 Winston Churchill told us - from the Baltic to the Adriatic an Iron Curtain has descended across Europe. Behind the Iron Curtain, another genocidal psychopath, another threat. Josef Stalin triggered the Cold War, with the Berlin blockade in 1948. My whole generation was blighted by it.We were threatened by the nuclear holocaust, the nuclear wind, the nuclear winter. We built shelters that would have sheltered nothing. We spent our treasure on weapons instead of hospitals. We took silly precautions. Some fought it; some marched futilely against it. Some pretended it was not there. The Cold War lasted 43 years, but we remained a parliamentary democracy. By the early seventies it was terrorism as well. Al Fatah, Black September, Red Brigades, but most of all for us the IRA and the INLA. Thirty more years; 300 policemen and women, over 600 soldiers, more than 3,000 civilians dead, but we won because even IRA bombs could not force us to become a tyranny. That was why the tyrants lost. Civil rights were infringed as little as humanly possible. Evidence had to be taken in secret to protect covert sources; yes , and one judge, no-jury courts had to be instituted when juries were terrorised. Informants had to be given immunity from their own crimes to win the bigger battle. But habeas corpus did not die; right of appeal was not abolished. Now the threat is Islamic fundamentalism. Its leaders want to destroy our society; so did the IRA.It is based and funded abroad; so was the IRA. It has sleeper fanatics inside our society; so did the IRA. It is extremely hard to penetrate with our agents; so was the IRA. The prime movers are not easy to bring to trial; neither were the IRA. But we did. And without becoming a tyranny. Now the Blair government proposes the law system of fascism and communism. The citizen can be arrested and held without charge or trial, not even on the careful consideration of an experienced judge, but the whim of a political activist called a government minister. To be protected from terror the government says, we must become a tyranny. But a tyranny is based on the citizen\\'s terror. This is not victory; this is defeat before a shot is fired.An interesting article - its good to see widening participation in the debate - but I suggest we move one step further. Our own bombs and bullets will can only shatter peace, because invading foreign nations, imprisoning the innocent and \\'hunting\\' in the \\'shadows\\' cannot destroy an evil of the mind, and hatred within the heart. Rather than focusing upon effect, we should consider the cause, because terrorism does not begin with bombs. Why not try a foreign policy of compassion, it can only enhance our democracy, and share our freedom.I agree with Frederick Forsyth. We really can\\'t deal with terrorism by turning Britain into a fascist state. What we really need is more honesty from our security services and our politicians. If they do not have evidence to bring these people to trial, there probably isn\\'t any. Our security services, behave like the detective who having decided that a certain person is guilty, rakes over all kinds of obscure and flimsy evidence to try and prove it, while the real villain gets away. Remember there were no WMD in Iraq. Just because a person may have made some stupid and naive decisions in life does not make them a terrorist.In this overly \\'politically correct\\' society, it is good to see someone like Mr. Forsyth speak out. Yes, there has been oppression by the British government in the past, and overstepping the mark in places like Ireland, but yes, we are still a democracy where it is rare to be arrested without charge/trial etc. (apart from a number of prisoners in Belmarsh goal, for example).This country signs up to human rights, and then pretends that they only apply to the people with nothing to fear, the innocent people (defined by whom?). When ID cards become mandatory, the data collected will not be protected by the Data Protection Act, and will be readily available to people like GCHQ, with no control by the person whose ID is being checked.The threat now is new. You cannot compare the threats of past years with now. Forsyth says 3000 died over 30 years or terrorism; 3000 people died in one morning in NY on September 11th 2001. The threat today is that terrorists will acquire nuclear or biological technology. A Kilo of Semtex will flatten a building, a Kilo of plutonium will flatten a city. You now have a combination of people who will perform terrorist acts with technology that is rapidly becoming accessible. I agree, the government is probably encouraging a degree of mass-hysteria and talking up the threat; but talking-down the threat and doing nothing is unacceptable too.The problem with this issue is not that it isn\\'t important, but the fact that in general we Brits can be so politically apathetic some times, that we will just let this go without telling the government no. However, as the nation that gave the world the common law and a true sense of the rights of individual liberty I hope this will prove to be one step too far.As somebody of Chinese origin, I can say that this country used to be a good place to migrate and start a new life. Whilst life wasn\\'t perfect, we could make better for ourselves. Now we are riddled with red tape and be told what we can or cannot do. We have to be politically-correct and we are not allowed to have beliefs or opinions. We have a Prime Minister who spends too much time meddling in US politics and affairs which have little to do with the lives of British Citizens at home or abroad. Mr Forsyth has done a good job in voicing his opinions. Let\\'s hope the BBC doesn\\'t get gagged for letting people express their views. The people have the right to know and the BBC\\'s role is to Inform, Educate and Entertain...I agree. Terrorists intend to spread fear but in reality it is the government which has spread the fear, by its constant publicising of the this invisible enemy so dangerous that we must allow them to ride roughshod over our rights and liberties. In the end, the very thing we seek to protect is what we are giving up in the name of safety from this invisible enemy. The terrorists have already won.I absolutely agree with Frederick Forsyth. Yes we have to defend ourselves against terrorism but existing laws seem to be more than adequate. The idea that the \"new terrorism\" demands new powers is erroneous. The evidence of any real terrorist capability in the UK is scant. Ricin, for example, is a dangerous poison but it is not a weapon of mass destruction. What is really worrying is the enthusiasm of Mr Blair and his government for authoritarian reactions and attempts to manipulate the electorate through fear.If the government has its way with ID cards, tracking and so on then totalitarianism has won and as such it then matters little whether we give in to the terrorists demands or not. We will have lost the precious freedom which Bush and Blair constantly tells us we have and that they seek to bring to others.I agree wholeheartedly with Mr Forsyth. I am shocked at the ease with which this government is prepared to wipe out a major portion of the liberties that British people have enjoyed for centuries - the right not to be deprived of our liberty without a trial in open court. That goes right back to Magna Carta, and ordinary people have spilled their blood to enforce that right against governments who thought they \"knew best\".When you look at today\\'s Britain, you realise George Orwell was only wrong about one thing: the date.Frederick Forsyth puts it beautifully. The government is seeking to introduce a police state. The new powers of home internment without trial follow a pattern which includes the introduction of surveillance via compulsory ID cards and the linking of data bases, together with the un-British idea that we will have to swear allegiance to the state at the age of 18 years. We are sleep-walking into this. Wake up!An interesting view but missing two crucial facts of this new threat: 1) If these terrorists acquire weapons of mass destruction they WILL use them without fear of Mutually Assured Destruction that kept the cold war in a state of tense balance. These people will use devastating force against us without fear of ANY consequence. 2) The terrorists are prepared to use suicide bombers which means they could kill innocent people on the London Underground and we could do very little to stop it. Because these terrorists are potentially SO deadly, we have to come up with new, tougher responses. It will be a little late in the day when people outside London wake up one morning to find out that London has been nuked. We won\\'t have much of a society left to debate !He\\'s correct in most of what he says. Mind you he does seem to have forgotten that disgraceful internment policy in Northern Ireland which probably caused many idealistic if misguided young Catholics to join the IRA. Administrative detention of Muslims could have a similar effect now.Surely we the public would be better protected if the security services, rather than alerting a suspect terrorist by placing them under house arrest (and for how long?)They were to place suspect terrorist under surveillance and maybe acquire sufficient evidence to prosecute or even better prevent a terrorist attack.I don\\'t usually have much time for Mr Forsyth\\'s largely right wing views but this time he has got it spot on. There is no doubt that there are terrorist organisations who would like to do harm to the U.K. but it is very doubtful whether al-Qaeda is a global organisation co-ordinating this. The rise of surveillance cameras, ID cards, the plan to charge for road use by tracking every vehicle at all times, this is the stuff of nightmares. Add to this this new legislation which effectively means that the protection of the law will be removed from anyone at the whim of the Home Secretary, and I genuinely wonder what sort of world my two children will inherit. Where will this end. As it stands terrorists do not need to attack the U.K. it\\'s government will soon have it\\'s people terrorised more that they could very achieve with a few bombs.Mr Forsyth has expressed exactly what my gut fears and reservations were about this proposed legislation, but could not verbalise. Thank you.Mr Forsyth seems to forget that killings in the Troubles occurred on both sides of the religious divide and was carried out by killers from both sides. He also forgets basic Human Rights were suspended then as now. Experienced Judges sat over some of the greatest miscarriages of justice during those times. For very little return and maximum alienation. These laws and the emphasis on the Islamic threat will just do the same.Forsyth is wrong. The nature of the current threat is new. It is no longer to our armed forces, as the Soviet threat in the Eastern bloc was. It is to you and I. The terrorist aim to kill indiscriminately. The best comparison is therefore the blitz, 1941. At this time, let us not forget, suspects (foreign and British were routinely rounded up and interned for the duration of the war, without any complaints from the public. We must not forget we are at war.I\\'d say that that the likelihood of an attack by a sleeper cell of fundamentalist lunatics against a major UK target is a \"When\" not an \"If\" probability. I\\'ll bet any money you like that the day after any such attack Freddie Forsyth will be saying that the government didn\\'t do enough to protect the UK. People like Forsyth can only see one side of any argument and for him it is the side that is opposite New Labour and Tony Blair.I agree wholeheartedly with Mr Forsyth. The very reason this country has been such a wonderful place to live, is under attack, not from terrorists, but from this government. The perpetuation of the perceived terrorist threat is not because of what the \\'alleged\\' terrorists are doing, but from our own government. I believe what this government is doing, is, at the very least, highly questionable and at worst, sinister. At what point will they feel they have enough control over every single person in the British Isles; when we are all tagged and monitored constantly? Our freedom is being craftily and surreptitiously whittled away by this government and we are gaining nothing. It should be of great concern to everyone.I am slightly older than Mr Forsyth and therefore have lived through the same history as him. I am against a police state and would not like to think that I lived in one. I think that the attack on Iraq made the international situation worse and may have provoked further acts of terrorism.How true. There are extremely worrying parallels between Britain now and Germany during the 30\\'s. I never thought it would be so easy to take over a country from within.Mr Forsyth has forgotten one key point; the terrorists who threaten Britain today are well aware that Hitler, Stalin, and the IRA all failed. As a result modern day terrorists are willing to do things their predecessors did not. That does not mean that the civil liberties of modern Britain must be eroded to counter the threat; that should always be the absolute last resort. But to meet the new threat, to defeat the sinister fanaticism of today\\'s terrorists, we may need to do things a little differently. Let us hope not.Frederic Forsythe\\'s comments seem to me to be a well-thought-out analysis of why we (human society as a whole, and Britain in particular) should resist the temptation to over-protect through fear. It is this fear which enables terrorists to succeed in the end, and terrorists can come in all forms, as Mr. Forsythe\\'s opening comments suggest.I am reminded of a quote attributed to Thomas Jefferson. \"A nation that limits freedom in the name of security will have neither.\"The government are faced with an incredibly difficult task, and have made a policy to deal with it. It\\'s all very well criticising that policy, but if Mr Forsythe can\\'t draw on his years of experience to offer an alternative, I say \\'So what?\\' to his opinions.Frederick Forsyth\\'s rhetoric is absurd and his conclusions laughable. He distorts reality to serve his own prejudice against New Labour. This government seeks to balance protection of our democracy with minimum loss of civil rights. It is Frederick Forsyth who is the extremist, because he does not appreciate the need for balance.I rarely find myself agreeing with My Forsyth, but in this instance I think he is correct. The rule of law must prevail, civil liberties are worth defending. If the government can hold \\'suspects\\' without charge or trial, what\\'s next?I agree absolutely. By introducing fascist type laws we loose the moral high ground in our fight against terror. Our democratic system is not perfect, but as Churchill points out it is \"better than all the others that have been tried\". Terrorist attacks will take place but for many reasons we should take that personal risk in return for personal freedom.I do not usually agree with Mr. Forsyth, but he is spot on here. The single biggest threat we face is that of a government dedicated to acting illegally and manipulating international and national law to suit its own purpose. Totalitarianism always requires an outside threat, justifying a range of extraordinary powers leaders want. The British government is a far greater threat that and terrorist organisation.Although, in principle I agree with him, Frederick Forsyth fails to address one key point- al-Qaeda attacks (though obviously there have been none yet in the UK) seek to kill the maximum number of people. The IRA wanted to limit the death toll of their attacks so as to maintain support among the republican movement.Yes, I agree with Mr. Forsyth\\'s views. I do not believe the government\\'s plans are justified. There is over reaction to and the negative influence of the US President\\'s interpretation of democracy and freedom. He uses the same arguments that were current before the WWII, the Wars to \"liberate\" Iraq, Afghanistan with Syria and Iran to come. We are leaving a poor inheritance for the future generations.Mr Forsyth is a wonderful writer and should keep his fiction where it belongs. The British Government is not going down the road that Mr Forsyth suggests. Sadly comments such as his will make a lot of people believe that they are governed by people who are fast becoming tyrants instead of being genuinely committed to stopping tyranny, even if the method employed to do that is at the moment alien to the British people who have lived in a democracy protected by Tony Blair and others of like mind who, Mr. Forsyth seems to be putting along side the \\'scruffy little Austrian.\\'Thomas Hobbes would be smiling in his grave at Labour\\'s propositions. Like New Labour, he called himself a libertarian. Like New Labour, he believed he was promoting the people\\'s best interests. But as Forsythe criticises this government, Hobbes has been criticised by most subsequent philosophers for arguing his way into the hands of the totalitarians. Simply put, he argued that in favour of the ultimate liberty - the liberty to live - man should be prepared to surrender all other liberties to a supreme sovereign, as protection against his fellow, barbaric, man. Hobbes has been roundly condemned by posterity, and rightly so. I hope New Labour suffers the same treatment.I agree with Mr Forsyth\\'s views. The governments approach is totally against the spirit of British democracy. They must not be allowed to get away with it.Of course Frederick is wrong about Britain winning the war against the IRA and he\\'s wrong too about the country not becoming a tyranny. Has he forgotten about shoot to kill, torture, internment without trial, collusion with loyalist death squads etc?My background is somewhat similar to Freddie\\'s so I am persuaded to agree with many of his sentiments. We can have no moral justification for imposing our system of government on anyone while we are systematically depriving our own citizens of basic individual and collective freedoms.Whilst the principle of keeping potential terrorists under house arrest might seem superficially attractive, it is, unfortunately, also the first step towards totalitarianism. Who is to decide whom is a suspect? Why should we believe them? Who can have faith in the honesty, integrity, and competence of our intelligence services and politicians in light of the events of recent years? What is to stop false denunciations? What of those falsely accused who will lose their careers? Who will support their families? Will their children still go to school? It smacks to me of the methods of Nazi Germany, Stalin\\'s Russia, Ceausescu\\'s Romania - the list goes on. It looks as if a new dark age is coming.I see that opinion on Mr Forsyth\\'s remarks are divided. The problem I see is that those who support imprisonment without trial believe it will never happen to them or their family, only to people they don\\'t like or are scared of. But history has shown that if you have laws like that, they always get abused by those in power. After all, today you may be scared of the same people as those in power but someday those in power may be scared of you! And that day, you\\'ll be the one imprisoned without the chance of justice. Our laws are such that you cannot just be imprisoned at the whim of our police forces, you have to be shown to be deserving of it. If we imprison people without trial for an indeterminate period, we are no better that those we are fighting.I never thought it possible for me to agree with a single word uttered by Frederick Forsyth, but I\\'m in wholehearted agreement with him on this one. We, as a nation are in grave danger of being duped by pro US propaganda, which of course also means we\\'ll inherit most, if not all of their total paranoia, and allow our governments, of any political persuasion incidentally, to gradually, and insidiously, impose a police state by well tried & tested back door methods. I grieve for the future of my children, it\\'s no wonder they\\'re adamant they don\\'t ever want any of their own.This government, with much fanfare, signs us up to the European Convention on Human Rights but now wants to introduce indefinite house arrest without trial. This puts it on a par with the government of Burma.Like many of your respondents, I wouldn\\'t usually think of Mr Forsyth as someone whose views I share, but in the instance of opposing Charles Clark\\'s proposals for house arrest, I agree wholeheartedly with Mr Forsyth/I agree with Mr Forsyth. Just look at the facts - our government (along with the US) invaded another sovereign country (Iraq) by selecting intelligence that backed it\\'s case based on fear. The facts turned out to be very different. If individuals are treated in the same distorted way, then we\\'ve done ourselves more damage than any terrorist organisation could with bombs. We become animals too.I agree in many ways with what Mr Forsyth has said - if we are to be respected and have influence within the world we must be seen to be walking the walk as well as talking the talk - how can we accuse countries such as Zimbabwe and Burma of human rights abuses when we are locking up people who may be totally innocent, it is hypocrisy of the highest order. Mr Forsyth links \"Islamic fundamentalism\" to the new \"threat\". However it appears that he has misunderstood the term \"Islamic fundamentalism\". It should be pointed out that a Muslim who adheres to the true fundamentals of the Qur\\'aan and the teachings of the last Prophet Muhammad is an Islamic Fundamentalist. This person does not commit suicide in any shape or form, nor does she/he kill innocent women, men and children. This person is self-reflective and constantly tries to better her/his actions by being good to others. The people who Mr Forsyth labels the new \"threat\" are those who do not follow the correct teachings of Islam. They have arrived at their own interpretations and assumptions with regards their actions. On top of that, they claim to be following Islam in its true form!I accept that the intentions of these policies are to make Britain a safer place but I cannot think of a single example from history where doing this sort of thing has ever made any difference - in Northern Ireland internment certainly didn\\'t achieve anything - the bombings didn\\'t stop, and it could be argued that all it achieved was to just supply the IRA with yet more angry and resentful republicans willing to take up arms against the British.Being eight years older than Frederick Forsyth and a survivor of the Blitz on London, it is easy to agree with him, he is absolutely spot on. During the IRA bombings there were massive explosions in Canary Wharf, to the right of where I write this, and also to the left in the City of London. Notwithstanding these and the attempted and nearly successful assassination attempts on Prime Minister Thatcher in Brighton and on later occupants of 10 Downing Street, there was no retaliatory blitz on Belfast or Dublin as there has been on Afghanistan and Iraq. Even when England was in true peril in 1940 apart from some detentions there were no wholesale derogation of habeas corpus and the like. We have to see off these latest attempts on our liberties including ID cards, which Winston Churchill decided had to go since, he said, the average Bobby on the beat could not be relied on to not be tempted to take undue advantage against the citizen going about their lawful activities (incidentally I can still remember my old ID card number). Hence it is clear that the far too great police state powers set for the statute books have to be resisted and neutered.What can I add to Mr. Forsyth\\'s eloquently put arguments... except applause! Well done that man for standing up and being counted in the \"war against tyranny\".'"
      ]
     },
     "execution_count": 68,
     "metadata": {},
     "output_type": "execute_result"
    }
   ],
   "source": [
    "# Displaying longest tweet\n",
    "# Considering that the max length of a tweet is 280, this looks like an error. Consulting stakeholders to confirm \n",
    "# why tweets like this exist in our data before dropping them is a good idea. \n",
    "\n",
    "\n",
    "df['story_edited'][df['body_length'].idxmax()]"
   ]
  },
  {
   "cell_type": "code",
   "execution_count": 70,
   "id": "d395102f",
   "metadata": {},
   "outputs": [
    {
     "data": {
      "text/html": [
       "<div>\n",
       "<style scoped>\n",
       "    .dataframe tbody tr th:only-of-type {\n",
       "        vertical-align: middle;\n",
       "    }\n",
       "\n",
       "    .dataframe tbody tr th {\n",
       "        vertical-align: top;\n",
       "    }\n",
       "\n",
       "    .dataframe thead th {\n",
       "        text-align: right;\n",
       "    }\n",
       "</style>\n",
       "<table border=\"1\" class=\"dataframe\">\n",
       "  <thead>\n",
       "    <tr style=\"text-align: right;\">\n",
       "      <th></th>\n",
       "      <th>body</th>\n",
       "      <th>title</th>\n",
       "      <th>filename</th>\n",
       "      <th>category</th>\n",
       "      <th>body_length</th>\n",
       "      <th>story_edited</th>\n",
       "    </tr>\n",
       "  </thead>\n",
       "  <tbody>\n",
       "    <tr>\n",
       "      <th>0</th>\n",
       "      <td>The global web blog community is being called ...</td>\n",
       "      <td>Global blogger action day called</td>\n",
       "      <td>bbc/tech/016.txt</td>\n",
       "      <td>tech</td>\n",
       "      <td>3930</td>\n",
       "      <td>The global web blog community is being called ...</td>\n",
       "    </tr>\n",
       "    <tr>\n",
       "      <th>1</th>\n",
       "      <td>The \"digital divide\" between rich and poor nat...</td>\n",
       "      <td>Global digital divide 'narrowing'</td>\n",
       "      <td>bbc/tech/033.txt</td>\n",
       "      <td>tech</td>\n",
       "      <td>2060</td>\n",
       "      <td>The \"digital divide\" between rich and poor nat...</td>\n",
       "    </tr>\n",
       "    <tr>\n",
       "      <th>2</th>\n",
       "      <td>The current slew of sports games offers unpara...</td>\n",
       "      <td>Sporting rivals go to extra time</td>\n",
       "      <td>bbc/tech/056.txt</td>\n",
       "      <td>tech</td>\n",
       "      <td>3494</td>\n",
       "      <td>The current slew of sports games offers unpara...</td>\n",
       "    </tr>\n",
       "    <tr>\n",
       "      <th>3</th>\n",
       "      <td>Writing a Microsoft Word document can be a dan...</td>\n",
       "      <td>Warning over Windows Word files</td>\n",
       "      <td>bbc/tech/086.txt</td>\n",
       "      <td>tech</td>\n",
       "      <td>2904</td>\n",
       "      <td>Writing a Microsoft Word document can be a dan...</td>\n",
       "    </tr>\n",
       "    <tr>\n",
       "      <th>4</th>\n",
       "      <td>Aid workers trying to house, feed and clothe m...</td>\n",
       "      <td>Satellite mapping aids Darfur relief</td>\n",
       "      <td>bbc/tech/223.txt</td>\n",
       "      <td>tech</td>\n",
       "      <td>3061</td>\n",
       "      <td>Aid workers trying to house, feed and clothe m...</td>\n",
       "    </tr>\n",
       "  </tbody>\n",
       "</table>\n",
       "</div>"
      ],
      "text/plain": [
       "                                                body  \\\n",
       "0  The global web blog community is being called ...   \n",
       "1  The \"digital divide\" between rich and poor nat...   \n",
       "2  The current slew of sports games offers unpara...   \n",
       "3  Writing a Microsoft Word document can be a dan...   \n",
       "4  Aid workers trying to house, feed and clothe m...   \n",
       "\n",
       "                                  title          filename category  \\\n",
       "0      Global blogger action day called  bbc/tech/016.txt     tech   \n",
       "1     Global digital divide 'narrowing'  bbc/tech/033.txt     tech   \n",
       "2      Sporting rivals go to extra time  bbc/tech/056.txt     tech   \n",
       "3       Warning over Windows Word files  bbc/tech/086.txt     tech   \n",
       "4  Satellite mapping aids Darfur relief  bbc/tech/223.txt     tech   \n",
       "\n",
       "   body_length                                       story_edited  \n",
       "0         3930  The global web blog community is being called ...  \n",
       "1         2060  The \"digital divide\" between rich and poor nat...  \n",
       "2         3494  The current slew of sports games offers unpara...  \n",
       "3         2904  Writing a Microsoft Word document can be a dan...  \n",
       "4         3061  Aid workers trying to house, feed and clothe m...  "
      ]
     },
     "execution_count": 70,
     "metadata": {},
     "output_type": "execute_result"
    }
   ],
   "source": [
    "# Displaying first five rows of new dataset\n",
    "df.head()"
   ]
  },
  {
   "cell_type": "code",
   "execution_count": 73,
   "id": "74665635",
   "metadata": {},
   "outputs": [
    {
     "data": {
      "image/png": "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",
      "text/plain": [
       "<Figure size 640x480 with 6 Axes>"
      ]
     },
     "metadata": {},
     "output_type": "display_data"
    }
   ],
   "source": [
    "# Distribution of tweet_length by class\n",
    "import matplotlib.pyplot as plt\n",
    "df.hist(column='body_length',by='category',bins=20)\n",
    "plt.tight_layout()\n",
    "plt.show()"
   ]
  },
  {
   "cell_type": "code",
   "execution_count": null,
   "id": "0f19199a",
   "metadata": {},
   "outputs": [],
   "source": []
  },
  {
   "cell_type": "code",
   "execution_count": null,
   "id": "7dae7543",
   "metadata": {},
   "outputs": [],
   "source": []
  },
  {
   "cell_type": "code",
   "execution_count": 75,
   "id": "ce73afc2",
   "metadata": {},
   "outputs": [
    {
     "data": {
      "text/plain": [
       "category\n",
       "business         1952.762745\n",
       "entertainment    1894.699482\n",
       "politics         2650.592326\n",
       "sport            1865.023483\n",
       "tech             2943.024938\n",
       "Name: body_length, dtype: float64"
      ]
     },
     "execution_count": 75,
     "metadata": {},
     "output_type": "execute_result"
    }
   ],
   "source": [
    "# Mean tweet length by class\n",
    "df.groupby('category')['body_length'].mean()"
   ]
  },
  {
   "cell_type": "code",
   "execution_count": 78,
   "id": "e24336f7",
   "metadata": {},
   "outputs": [],
   "source": [
    "tech_summary = df[df['category'] == 'tech']['body_length'].describe()"
   ]
  },
  {
   "cell_type": "code",
   "execution_count": 84,
   "id": "62148285",
   "metadata": {},
   "outputs": [
    {
     "data": {
      "text/plain": [
       "count      401.000000\n",
       "mean      2943.024938\n",
       "std       1362.908482\n",
       "min        942.000000\n",
       "25%       2012.000000\n",
       "50%       2604.000000\n",
       "75%       3717.000000\n",
       "max      16126.000000\n",
       "Name: body_length, dtype: float64"
      ]
     },
     "execution_count": 84,
     "metadata": {},
     "output_type": "execute_result"
    }
   ],
   "source": [
    "tech_summary"
   ]
  },
  {
   "cell_type": "code",
   "execution_count": 85,
   "id": "bb7083f7",
   "metadata": {},
   "outputs": [],
   "source": [
    "tech_iqr = tech_summary['75%'] - tech_summary['75%']"
   ]
  },
  {
   "cell_type": "code",
   "execution_count": 108,
   "id": "23180983",
   "metadata": {},
   "outputs": [],
   "source": [
    "def iqr(data):\n",
    "    desc = data.describe()\n",
    "    low = int(desc['25%'])\n",
    "    high = int(desc['75%'])\n",
    "    iqr = high - low\n",
    "    return low, high"
   ]
  },
  {
   "cell_type": "code",
   "execution_count": 121,
   "id": "d03755d9",
   "metadata": {},
   "outputs": [],
   "source": [
    "def iqr(data):\n",
    "    desc = data.describe(percentiles=(0.1,0.9))\n",
    "    low = desc.loc['10%']\n",
    "    high = data.loc['90%']\n",
    "    iqr = high - low\n",
    "    return low, high"
   ]
  },
  {
   "cell_type": "code",
   "execution_count": 140,
   "id": "bb318bcb",
   "metadata": {},
   "outputs": [],
   "source": [
    "def iqr(data):\n",
    "    desc = data.describe(percentiles=[0.05, 0.95])\n",
    "    low = desc.loc['5%']\n",
    "    high = desc.loc['95%']\n",
    "    iqr = high - low\n",
    "    return int(low), int(high), iqr"
   ]
  },
  {
   "cell_type": "code",
   "execution_count": 141,
   "id": "3dc86720",
   "metadata": {},
   "outputs": [],
   "source": [
    "iqr_tech = iqr(df[df['category'] == 'tech']['body_length'])"
   ]
  },
  {
   "cell_type": "code",
   "execution_count": 142,
   "id": "f04242f6",
   "metadata": {},
   "outputs": [
    {
     "data": {
      "text/plain": [
       "5065"
      ]
     },
     "execution_count": 142,
     "metadata": {},
     "output_type": "execute_result"
    }
   ],
   "source": [
    "iqr_tech[1]"
   ]
  },
  {
   "cell_type": "code",
   "execution_count": 137,
   "id": "b44a4336",
   "metadata": {},
   "outputs": [
    {
     "data": {
      "text/html": [
       "<div>\n",
       "<style scoped>\n",
       "    .dataframe tbody tr th:only-of-type {\n",
       "        vertical-align: middle;\n",
       "    }\n",
       "\n",
       "    .dataframe tbody tr th {\n",
       "        vertical-align: top;\n",
       "    }\n",
       "\n",
       "    .dataframe thead th {\n",
       "        text-align: right;\n",
       "    }\n",
       "</style>\n",
       "<table border=\"1\" class=\"dataframe\">\n",
       "  <thead>\n",
       "    <tr style=\"text-align: right;\">\n",
       "      <th></th>\n",
       "      <th>body</th>\n",
       "      <th>title</th>\n",
       "      <th>filename</th>\n",
       "      <th>category</th>\n",
       "      <th>body_length</th>\n",
       "      <th>story_edited</th>\n",
       "    </tr>\n",
       "  </thead>\n",
       "  <tbody>\n",
       "    <tr>\n",
       "      <th>0</th>\n",
       "      <td>The global web blog community is being called ...</td>\n",
       "      <td>Global blogger action day called</td>\n",
       "      <td>bbc/tech/016.txt</td>\n",
       "      <td>tech</td>\n",
       "      <td>3930</td>\n",
       "      <td>The global web blog community is being called ...</td>\n",
       "    </tr>\n",
       "    <tr>\n",
       "      <th>1</th>\n",
       "      <td>The \"digital divide\" between rich and poor nat...</td>\n",
       "      <td>Global digital divide 'narrowing'</td>\n",
       "      <td>bbc/tech/033.txt</td>\n",
       "      <td>tech</td>\n",
       "      <td>2060</td>\n",
       "      <td>The \"digital divide\" between rich and poor nat...</td>\n",
       "    </tr>\n",
       "    <tr>\n",
       "      <th>2</th>\n",
       "      <td>The current slew of sports games offers unpara...</td>\n",
       "      <td>Sporting rivals go to extra time</td>\n",
       "      <td>bbc/tech/056.txt</td>\n",
       "      <td>tech</td>\n",
       "      <td>3494</td>\n",
       "      <td>The current slew of sports games offers unpara...</td>\n",
       "    </tr>\n",
       "    <tr>\n",
       "      <th>3</th>\n",
       "      <td>Writing a Microsoft Word document can be a dan...</td>\n",
       "      <td>Warning over Windows Word files</td>\n",
       "      <td>bbc/tech/086.txt</td>\n",
       "      <td>tech</td>\n",
       "      <td>2904</td>\n",
       "      <td>Writing a Microsoft Word document can be a dan...</td>\n",
       "    </tr>\n",
       "    <tr>\n",
       "      <th>4</th>\n",
       "      <td>Aid workers trying to house, feed and clothe m...</td>\n",
       "      <td>Satellite mapping aids Darfur relief</td>\n",
       "      <td>bbc/tech/223.txt</td>\n",
       "      <td>tech</td>\n",
       "      <td>3061</td>\n",
       "      <td>Aid workers trying to house, feed and clothe m...</td>\n",
       "    </tr>\n",
       "    <tr>\n",
       "      <th>...</th>\n",
       "      <td>...</td>\n",
       "      <td>...</td>\n",
       "      <td>...</td>\n",
       "      <td>...</td>\n",
       "      <td>...</td>\n",
       "      <td>...</td>\n",
       "    </tr>\n",
       "    <tr>\n",
       "      <th>396</th>\n",
       "      <td>Sony has taken the prize for top innovator at ...</td>\n",
       "      <td>Sony wares win innovation award</td>\n",
       "      <td>bbc/tech/111.txt</td>\n",
       "      <td>tech</td>\n",
       "      <td>1716</td>\n",
       "      <td>Sony has taken the prize for top innovator at ...</td>\n",
       "    </tr>\n",
       "    <tr>\n",
       "      <th>397</th>\n",
       "      <td>Pocket-sized devices that let people carry aro...</td>\n",
       "      <td>Media gadgets get moving</td>\n",
       "      <td>bbc/tech/222.txt</td>\n",
       "      <td>tech</td>\n",
       "      <td>4180</td>\n",
       "      <td>Pocket-sized devices that let people carry aro...</td>\n",
       "    </tr>\n",
       "    <tr>\n",
       "      <th>398</th>\n",
       "      <td>Cyberspace is becoming a very popular destinat...</td>\n",
       "      <td>Internet boom for gift shopping</td>\n",
       "      <td>bbc/tech/235.txt</td>\n",
       "      <td>tech</td>\n",
       "      <td>3899</td>\n",
       "      <td>Cyberspace is becoming a very popular destinat...</td>\n",
       "    </tr>\n",
       "    <tr>\n",
       "      <th>399</th>\n",
       "      <td>People using wireless high-speed net (wi-fi) a...</td>\n",
       "      <td>'Evil twin' fear for wireless net</td>\n",
       "      <td>bbc/tech/073.txt</td>\n",
       "      <td>tech</td>\n",
       "      <td>3310</td>\n",
       "      <td>People using wireless high-speed net (wi-fi) a...</td>\n",
       "    </tr>\n",
       "    <tr>\n",
       "      <th>400</th>\n",
       "      <td>Analyst Bill Thompson has seen the future and ...</td>\n",
       "      <td>Musical future for phones</td>\n",
       "      <td>bbc/tech/198.txt</td>\n",
       "      <td>tech</td>\n",
       "      <td>5063</td>\n",
       "      <td>Analyst Bill Thompson has seen the future and ...</td>\n",
       "    </tr>\n",
       "  </tbody>\n",
       "</table>\n",
       "<p>358 rows × 6 columns</p>\n",
       "</div>"
      ],
      "text/plain": [
       "                                                  body  \\\n",
       "0    The global web blog community is being called ...   \n",
       "1    The \"digital divide\" between rich and poor nat...   \n",
       "2    The current slew of sports games offers unpara...   \n",
       "3    Writing a Microsoft Word document can be a dan...   \n",
       "4    Aid workers trying to house, feed and clothe m...   \n",
       "..                                                 ...   \n",
       "396  Sony has taken the prize for top innovator at ...   \n",
       "397  Pocket-sized devices that let people carry aro...   \n",
       "398  Cyberspace is becoming a very popular destinat...   \n",
       "399  People using wireless high-speed net (wi-fi) a...   \n",
       "400  Analyst Bill Thompson has seen the future and ...   \n",
       "\n",
       "                                    title          filename category  \\\n",
       "0        Global blogger action day called  bbc/tech/016.txt     tech   \n",
       "1       Global digital divide 'narrowing'  bbc/tech/033.txt     tech   \n",
       "2        Sporting rivals go to extra time  bbc/tech/056.txt     tech   \n",
       "3         Warning over Windows Word files  bbc/tech/086.txt     tech   \n",
       "4    Satellite mapping aids Darfur relief  bbc/tech/223.txt     tech   \n",
       "..                                    ...               ...      ...   \n",
       "396       Sony wares win innovation award  bbc/tech/111.txt     tech   \n",
       "397              Media gadgets get moving  bbc/tech/222.txt     tech   \n",
       "398       Internet boom for gift shopping  bbc/tech/235.txt     tech   \n",
       "399     'Evil twin' fear for wireless net  bbc/tech/073.txt     tech   \n",
       "400             Musical future for phones  bbc/tech/198.txt     tech   \n",
       "\n",
       "     body_length                                       story_edited  \n",
       "0           3930  The global web blog community is being called ...  \n",
       "1           2060  The \"digital divide\" between rich and poor nat...  \n",
       "2           3494  The current slew of sports games offers unpara...  \n",
       "3           2904  Writing a Microsoft Word document can be a dan...  \n",
       "4           3061  Aid workers trying to house, feed and clothe m...  \n",
       "..           ...                                                ...  \n",
       "396         1716  Sony has taken the prize for top innovator at ...  \n",
       "397         4180  Pocket-sized devices that let people carry aro...  \n",
       "398         3899  Cyberspace is becoming a very popular destinat...  \n",
       "399         3310  People using wireless high-speed net (wi-fi) a...  \n",
       "400         5063  Analyst Bill Thompson has seen the future and ...  \n",
       "\n",
       "[358 rows x 6 columns]"
      ]
     },
     "execution_count": 137,
     "metadata": {},
     "output_type": "execute_result"
    }
   ],
   "source": [
    "df[(df['category'] == 'tech') & (df['body_length'].isin(range(iqr_tech[0],iqr_tech[1])))]"
   ]
  },
  {
   "cell_type": "code",
   "execution_count": 116,
   "id": "cd3b60b1",
   "metadata": {},
   "outputs": [
    {
     "data": {
      "text/plain": [
       "(401, 6)"
      ]
     },
     "execution_count": 116,
     "metadata": {},
     "output_type": "execute_result"
    }
   ],
   "source": [
    "df[df['category'] == 'tech'].shape"
   ]
  },
  {
   "cell_type": "code",
   "execution_count": null,
   "id": "2d83be45",
   "metadata": {},
   "outputs": [],
   "source": []
  },
  {
   "cell_type": "code",
   "execution_count": 20,
   "id": "1908a1b6",
   "metadata": {},
   "outputs": [],
   "source": [
    "def remove_username(tweet):\n",
    "    '''Function that takes a tweet as an agreement and removes \n",
    "    twitter handle\n",
    "    '''\n",
    "    words_list = []\n",
    "    for word in tweet.split():\n",
    "        if not word.startswith('@'):\n",
    "            words_list.append(word)\n",
    "    return ' '.join(words_list)\n"
   ]
  },
  {
   "cell_type": "code",
   "execution_count": 21,
   "id": "133a8782",
   "metadata": {},
   "outputs": [],
   "source": [
    "# Libraries needed for custom text_processing function below\n",
    "import string\n",
    "from nltk.corpus import stopwords"
   ]
  },
  {
   "cell_type": "code",
   "execution_count": 22,
   "id": "ebba5738",
   "metadata": {},
   "outputs": [],
   "source": [
    "def text_processing(tweet):\n",
    "    ''' Function takes in tweet as argument and returns a list of \n",
    "    of words in the string with stopwords, punctuation marks and \n",
    "    the twitter handle removed'''\n",
    "    words_list = []\n",
    "    for word in tweet.split():\n",
    "        if word.startswith('@'):\n",
    "            continue  # Skip twitter handles\n",
    "        else:\n",
    "            words_list.append(word)\n",
    "\n",
    "    nopunc = [char for char in ' '.join(words_list) if char not in string.punctuation]\n",
    "    nopunc = ''.join(nopunc)\n",
    "    return [word for word in nopunc.split() if word.lower() not in stopwords.words('english')]"
   ]
  },
  {
   "cell_type": "code",
   "execution_count": 23,
   "id": "1655685a",
   "metadata": {},
   "outputs": [],
   "source": [
    "#df_v2['tweet_edited'] = df_v2['tweet'].apply(remove_username)"
   ]
  },
  {
   "cell_type": "code",
   "execution_count": 24,
   "id": "b0d99c89",
   "metadata": {},
   "outputs": [
    {
     "name": "stderr",
     "output_type": "stream",
     "text": [
      "/var/folders/4z/s5yytqj535948_tn28lrcsr40000gn/T/ipykernel_12554/254109192.py:2: SettingWithCopyWarning: \n",
      "A value is trying to be set on a copy of a slice from a DataFrame.\n",
      "Try using .loc[row_indexer,col_indexer] = value instead\n",
      "\n",
      "See the caveats in the documentation: https://pandas.pydata.org/pandas-docs/stable/user_guide/indexing.html#returning-a-view-versus-a-copy\n",
      "  df_v2['tweet_edited'] = df_v2['tweet'].apply(text_processing)\n"
     ]
    }
   ],
   "source": [
    "# New tweet feature created using text_processing function\n",
    "df_v2['tweet_edited'] = df_v2['tweet'].apply(text_processing)"
   ]
  },
  {
   "cell_type": "code",
   "execution_count": 25,
   "id": "cc6cb94d",
   "metadata": {},
   "outputs": [
    {
     "data": {
      "text/html": [
       "<div>\n",
       "<style scoped>\n",
       "    .dataframe tbody tr th:only-of-type {\n",
       "        vertical-align: middle;\n",
       "    }\n",
       "\n",
       "    .dataframe tbody tr th {\n",
       "        vertical-align: top;\n",
       "    }\n",
       "\n",
       "    .dataframe thead th {\n",
       "        text-align: right;\n",
       "    }\n",
       "</style>\n",
       "<table border=\"1\" class=\"dataframe\">\n",
       "  <thead>\n",
       "    <tr style=\"text-align: right;\">\n",
       "      <th></th>\n",
       "      <th>count</th>\n",
       "      <th>hate_speech</th>\n",
       "      <th>offensive_language</th>\n",
       "      <th>neither</th>\n",
       "      <th>class</th>\n",
       "      <th>tweet</th>\n",
       "      <th>tweet_length</th>\n",
       "      <th>tweet_edited</th>\n",
       "    </tr>\n",
       "  </thead>\n",
       "  <tbody>\n",
       "    <tr>\n",
       "      <th>0</th>\n",
       "      <td>3</td>\n",
       "      <td>0</td>\n",
       "      <td>0</td>\n",
       "      <td>3</td>\n",
       "      <td>2</td>\n",
       "      <td>!!! RT @mayasolovely: As a woman you shouldn't...</td>\n",
       "      <td>140</td>\n",
       "      <td>[RT, woman, shouldnt, complain, cleaning, hous...</td>\n",
       "    </tr>\n",
       "    <tr>\n",
       "      <th>1</th>\n",
       "      <td>3</td>\n",
       "      <td>0</td>\n",
       "      <td>3</td>\n",
       "      <td>0</td>\n",
       "      <td>1</td>\n",
       "      <td>!!!!! RT @mleew17: boy dats cold...tyga dwn ba...</td>\n",
       "      <td>85</td>\n",
       "      <td>[RT, boy, dats, coldtyga, dwn, bad, cuffin, da...</td>\n",
       "    </tr>\n",
       "    <tr>\n",
       "      <th>2</th>\n",
       "      <td>3</td>\n",
       "      <td>0</td>\n",
       "      <td>3</td>\n",
       "      <td>0</td>\n",
       "      <td>1</td>\n",
       "      <td>!!!!!!! RT @UrKindOfBrand Dawg!!!! RT @80sbaby...</td>\n",
       "      <td>120</td>\n",
       "      <td>[RT, Dawg, RT, ever, fuck, bitch, start, cry, ...</td>\n",
       "    </tr>\n",
       "    <tr>\n",
       "      <th>3</th>\n",
       "      <td>3</td>\n",
       "      <td>0</td>\n",
       "      <td>2</td>\n",
       "      <td>1</td>\n",
       "      <td>1</td>\n",
       "      <td>!!!!!!!!! RT @C_G_Anderson: @viva_based she lo...</td>\n",
       "      <td>62</td>\n",
       "      <td>[RT, look, like, tranny]</td>\n",
       "    </tr>\n",
       "    <tr>\n",
       "      <th>4</th>\n",
       "      <td>6</td>\n",
       "      <td>0</td>\n",
       "      <td>6</td>\n",
       "      <td>0</td>\n",
       "      <td>1</td>\n",
       "      <td>!!!!!!!!!!!!! RT @ShenikaRoberts: The shit you...</td>\n",
       "      <td>137</td>\n",
       "      <td>[RT, shit, hear, might, true, might, faker, bi...</td>\n",
       "    </tr>\n",
       "  </tbody>\n",
       "</table>\n",
       "</div>"
      ],
      "text/plain": [
       "   count  hate_speech  offensive_language  neither  class  \\\n",
       "0      3            0                   0        3      2   \n",
       "1      3            0                   3        0      1   \n",
       "2      3            0                   3        0      1   \n",
       "3      3            0                   2        1      1   \n",
       "4      6            0                   6        0      1   \n",
       "\n",
       "                                               tweet  tweet_length  \\\n",
       "0  !!! RT @mayasolovely: As a woman you shouldn't...           140   \n",
       "1  !!!!! RT @mleew17: boy dats cold...tyga dwn ba...            85   \n",
       "2  !!!!!!! RT @UrKindOfBrand Dawg!!!! RT @80sbaby...           120   \n",
       "3  !!!!!!!!! RT @C_G_Anderson: @viva_based she lo...            62   \n",
       "4  !!!!!!!!!!!!! RT @ShenikaRoberts: The shit you...           137   \n",
       "\n",
       "                                        tweet_edited  \n",
       "0  [RT, woman, shouldnt, complain, cleaning, hous...  \n",
       "1  [RT, boy, dats, coldtyga, dwn, bad, cuffin, da...  \n",
       "2  [RT, Dawg, RT, ever, fuck, bitch, start, cry, ...  \n",
       "3                           [RT, look, like, tranny]  \n",
       "4  [RT, shit, hear, might, true, might, faker, bi...  "
      ]
     },
     "execution_count": 25,
     "metadata": {},
     "output_type": "execute_result"
    }
   ],
   "source": [
    "df_v2.head()"
   ]
  },
  {
   "cell_type": "code",
   "execution_count": 26,
   "id": "03bc77f7",
   "metadata": {},
   "outputs": [
    {
     "name": "stderr",
     "output_type": "stream",
     "text": [
      "/var/folders/4z/s5yytqj535948_tn28lrcsr40000gn/T/ipykernel_12554/1439524767.py:1: SettingWithCopyWarning: \n",
      "A value is trying to be set on a copy of a slice from a DataFrame.\n",
      "Try using .loc[row_indexer,col_indexer] = value instead\n",
      "\n",
      "See the caveats in the documentation: https://pandas.pydata.org/pandas-docs/stable/user_guide/indexing.html#returning-a-view-versus-a-copy\n",
      "  df_v2['hate_speech_rating'] = df_v2['hate_speech']/df_v2['count']\n",
      "/var/folders/4z/s5yytqj535948_tn28lrcsr40000gn/T/ipykernel_12554/1439524767.py:2: SettingWithCopyWarning: \n",
      "A value is trying to be set on a copy of a slice from a DataFrame.\n",
      "Try using .loc[row_indexer,col_indexer] = value instead\n",
      "\n",
      "See the caveats in the documentation: https://pandas.pydata.org/pandas-docs/stable/user_guide/indexing.html#returning-a-view-versus-a-copy\n",
      "  df_v2['offensive_language_rating'] = df_v2['offensive_language']/df_v2['count']\n",
      "/var/folders/4z/s5yytqj535948_tn28lrcsr40000gn/T/ipykernel_12554/1439524767.py:3: SettingWithCopyWarning: \n",
      "A value is trying to be set on a copy of a slice from a DataFrame.\n",
      "Try using .loc[row_indexer,col_indexer] = value instead\n",
      "\n",
      "See the caveats in the documentation: https://pandas.pydata.org/pandas-docs/stable/user_guide/indexing.html#returning-a-view-versus-a-copy\n",
      "  df_v2['neither_rating'] = df_v2['neither']/df_v2['count']\n"
     ]
    }
   ],
   "source": [
    "df_v2['hate_speech_rating'] = df_v2['hate_speech']/df_v2['count']\n",
    "df_v2['offensive_language_rating'] = df_v2['offensive_language']/df_v2['count']\n",
    "df_v2['neither_rating'] = df_v2['neither']/df_v2['count']"
   ]
  },
  {
   "cell_type": "code",
   "execution_count": 27,
   "id": "b67aa0d5",
   "metadata": {},
   "outputs": [
    {
     "data": {
      "text/html": [
       "<div>\n",
       "<style scoped>\n",
       "    .dataframe tbody tr th:only-of-type {\n",
       "        vertical-align: middle;\n",
       "    }\n",
       "\n",
       "    .dataframe tbody tr th {\n",
       "        vertical-align: top;\n",
       "    }\n",
       "\n",
       "    .dataframe thead th {\n",
       "        text-align: right;\n",
       "    }\n",
       "</style>\n",
       "<table border=\"1\" class=\"dataframe\">\n",
       "  <thead>\n",
       "    <tr style=\"text-align: right;\">\n",
       "      <th></th>\n",
       "      <th>count</th>\n",
       "      <th>hate_speech</th>\n",
       "      <th>offensive_language</th>\n",
       "      <th>neither</th>\n",
       "      <th>class</th>\n",
       "      <th>tweet</th>\n",
       "      <th>tweet_length</th>\n",
       "      <th>tweet_edited</th>\n",
       "      <th>hate_speech_rating</th>\n",
       "      <th>offensive_language_rating</th>\n",
       "      <th>neither_rating</th>\n",
       "    </tr>\n",
       "  </thead>\n",
       "  <tbody>\n",
       "    <tr>\n",
       "      <th>0</th>\n",
       "      <td>3</td>\n",
       "      <td>0</td>\n",
       "      <td>0</td>\n",
       "      <td>3</td>\n",
       "      <td>2</td>\n",
       "      <td>!!! RT @mayasolovely: As a woman you shouldn't...</td>\n",
       "      <td>140</td>\n",
       "      <td>[RT, woman, shouldnt, complain, cleaning, hous...</td>\n",
       "      <td>0.0</td>\n",
       "      <td>0.0</td>\n",
       "      <td>1.0</td>\n",
       "    </tr>\n",
       "    <tr>\n",
       "      <th>1</th>\n",
       "      <td>3</td>\n",
       "      <td>0</td>\n",
       "      <td>3</td>\n",
       "      <td>0</td>\n",
       "      <td>1</td>\n",
       "      <td>!!!!! RT @mleew17: boy dats cold...tyga dwn ba...</td>\n",
       "      <td>85</td>\n",
       "      <td>[RT, boy, dats, coldtyga, dwn, bad, cuffin, da...</td>\n",
       "      <td>0.0</td>\n",
       "      <td>1.0</td>\n",
       "      <td>0.0</td>\n",
       "    </tr>\n",
       "  </tbody>\n",
       "</table>\n",
       "</div>"
      ],
      "text/plain": [
       "   count  hate_speech  offensive_language  neither  class  \\\n",
       "0      3            0                   0        3      2   \n",
       "1      3            0                   3        0      1   \n",
       "\n",
       "                                               tweet  tweet_length  \\\n",
       "0  !!! RT @mayasolovely: As a woman you shouldn't...           140   \n",
       "1  !!!!! RT @mleew17: boy dats cold...tyga dwn ba...            85   \n",
       "\n",
       "                                        tweet_edited  hate_speech_rating  \\\n",
       "0  [RT, woman, shouldnt, complain, cleaning, hous...                 0.0   \n",
       "1  [RT, boy, dats, coldtyga, dwn, bad, cuffin, da...                 0.0   \n",
       "\n",
       "   offensive_language_rating  neither_rating  \n",
       "0                        0.0             1.0  \n",
       "1                        1.0             0.0  "
      ]
     },
     "execution_count": 27,
     "metadata": {},
     "output_type": "execute_result"
    }
   ],
   "source": [
    "df_v2.head(2)"
   ]
  },
  {
   "cell_type": "code",
   "execution_count": 28,
   "id": "e8b9a3da",
   "metadata": {},
   "outputs": [],
   "source": [
    "# Library that tranforms numerals into words\n",
    "from num2words import num2words"
   ]
  },
  {
   "cell_type": "code",
   "execution_count": 29,
   "id": "f8b187df",
   "metadata": {},
   "outputs": [
    {
     "data": {
      "text/plain": [
       "'one point three three'"
      ]
     },
     "execution_count": 29,
     "metadata": {},
     "output_type": "execute_result"
    }
   ],
   "source": [
    "num2words(1.33)"
   ]
  },
  {
   "cell_type": "code",
   "execution_count": 30,
   "id": "911be89b",
   "metadata": {},
   "outputs": [],
   "source": [
    "# Transforming numeric ratings into words"
   ]
  },
  {
   "cell_type": "code",
   "execution_count": 31,
   "id": "fbe50d44",
   "metadata": {},
   "outputs": [
    {
     "name": "stderr",
     "output_type": "stream",
     "text": [
      "/var/folders/4z/s5yytqj535948_tn28lrcsr40000gn/T/ipykernel_12554/2916285753.py:1: SettingWithCopyWarning: \n",
      "A value is trying to be set on a copy of a slice from a DataFrame.\n",
      "Try using .loc[row_indexer,col_indexer] = value instead\n",
      "\n",
      "See the caveats in the documentation: https://pandas.pydata.org/pandas-docs/stable/user_guide/indexing.html#returning-a-view-versus-a-copy\n",
      "  df_v2['hate_speech_rating_words'] = df_v2['hate_speech_rating'].apply(lambda x: num2words(round(x,1)))\n"
     ]
    }
   ],
   "source": [
    "df_v2['hate_speech_rating_words'] = df_v2['hate_speech_rating'].apply(lambda x: num2words(round(x,1)))"
   ]
  },
  {
   "cell_type": "code",
   "execution_count": 32,
   "id": "72412289",
   "metadata": {},
   "outputs": [
    {
     "name": "stderr",
     "output_type": "stream",
     "text": [
      "/var/folders/4z/s5yytqj535948_tn28lrcsr40000gn/T/ipykernel_12554/809957158.py:1: SettingWithCopyWarning: \n",
      "A value is trying to be set on a copy of a slice from a DataFrame.\n",
      "Try using .loc[row_indexer,col_indexer] = value instead\n",
      "\n",
      "See the caveats in the documentation: https://pandas.pydata.org/pandas-docs/stable/user_guide/indexing.html#returning-a-view-versus-a-copy\n",
      "  df_v2['offensive_language_rating_words'] = df_v2['offensive_language_rating'].apply(lambda x: num2words(round(x,1)))\n"
     ]
    }
   ],
   "source": [
    "df_v2['offensive_language_rating_words'] = df_v2['offensive_language_rating'].apply(lambda x: num2words(round(x,1)))"
   ]
  },
  {
   "cell_type": "code",
   "execution_count": 33,
   "id": "7461211c",
   "metadata": {},
   "outputs": [
    {
     "name": "stderr",
     "output_type": "stream",
     "text": [
      "/var/folders/4z/s5yytqj535948_tn28lrcsr40000gn/T/ipykernel_12554/244279.py:1: SettingWithCopyWarning: \n",
      "A value is trying to be set on a copy of a slice from a DataFrame.\n",
      "Try using .loc[row_indexer,col_indexer] = value instead\n",
      "\n",
      "See the caveats in the documentation: https://pandas.pydata.org/pandas-docs/stable/user_guide/indexing.html#returning-a-view-versus-a-copy\n",
      "  df_v2['neither_rating_words'] = df_v2['neither_rating'].apply(lambda x: num2words(round(x,1)))\n"
     ]
    }
   ],
   "source": [
    "df_v2['neither_rating_words'] = df_v2['neither_rating'].apply(lambda x: num2words(round(x,1)))"
   ]
  },
  {
   "cell_type": "code",
   "execution_count": null,
   "id": "4179e852",
   "metadata": {},
   "outputs": [],
   "source": []
  },
  {
   "cell_type": "code",
   "execution_count": 34,
   "id": "793d95c3",
   "metadata": {},
   "outputs": [
    {
     "data": {
      "text/html": [
       "<div>\n",
       "<style scoped>\n",
       "    .dataframe tbody tr th:only-of-type {\n",
       "        vertical-align: middle;\n",
       "    }\n",
       "\n",
       "    .dataframe tbody tr th {\n",
       "        vertical-align: top;\n",
       "    }\n",
       "\n",
       "    .dataframe thead th {\n",
       "        text-align: right;\n",
       "    }\n",
       "</style>\n",
       "<table border=\"1\" class=\"dataframe\">\n",
       "  <thead>\n",
       "    <tr style=\"text-align: right;\">\n",
       "      <th></th>\n",
       "      <th>count</th>\n",
       "      <th>hate_speech</th>\n",
       "      <th>offensive_language</th>\n",
       "      <th>neither</th>\n",
       "      <th>class</th>\n",
       "      <th>tweet</th>\n",
       "      <th>tweet_length</th>\n",
       "      <th>tweet_edited</th>\n",
       "      <th>hate_speech_rating</th>\n",
       "      <th>offensive_language_rating</th>\n",
       "      <th>neither_rating</th>\n",
       "      <th>hate_speech_rating_words</th>\n",
       "      <th>offensive_language_rating_words</th>\n",
       "      <th>neither_rating_words</th>\n",
       "    </tr>\n",
       "  </thead>\n",
       "  <tbody>\n",
       "    <tr>\n",
       "      <th>0</th>\n",
       "      <td>3</td>\n",
       "      <td>0</td>\n",
       "      <td>0</td>\n",
       "      <td>3</td>\n",
       "      <td>2</td>\n",
       "      <td>!!! RT @mayasolovely: As a woman you shouldn't...</td>\n",
       "      <td>140</td>\n",
       "      <td>[RT, woman, shouldnt, complain, cleaning, hous...</td>\n",
       "      <td>0.0</td>\n",
       "      <td>0.0</td>\n",
       "      <td>1.0</td>\n",
       "      <td>zero</td>\n",
       "      <td>zero</td>\n",
       "      <td>one</td>\n",
       "    </tr>\n",
       "    <tr>\n",
       "      <th>1</th>\n",
       "      <td>3</td>\n",
       "      <td>0</td>\n",
       "      <td>3</td>\n",
       "      <td>0</td>\n",
       "      <td>1</td>\n",
       "      <td>!!!!! RT @mleew17: boy dats cold...tyga dwn ba...</td>\n",
       "      <td>85</td>\n",
       "      <td>[RT, boy, dats, coldtyga, dwn, bad, cuffin, da...</td>\n",
       "      <td>0.0</td>\n",
       "      <td>1.0</td>\n",
       "      <td>0.0</td>\n",
       "      <td>zero</td>\n",
       "      <td>one</td>\n",
       "      <td>zero</td>\n",
       "    </tr>\n",
       "  </tbody>\n",
       "</table>\n",
       "</div>"
      ],
      "text/plain": [
       "   count  hate_speech  offensive_language  neither  class  \\\n",
       "0      3            0                   0        3      2   \n",
       "1      3            0                   3        0      1   \n",
       "\n",
       "                                               tweet  tweet_length  \\\n",
       "0  !!! RT @mayasolovely: As a woman you shouldn't...           140   \n",
       "1  !!!!! RT @mleew17: boy dats cold...tyga dwn ba...            85   \n",
       "\n",
       "                                        tweet_edited  hate_speech_rating  \\\n",
       "0  [RT, woman, shouldnt, complain, cleaning, hous...                 0.0   \n",
       "1  [RT, boy, dats, coldtyga, dwn, bad, cuffin, da...                 0.0   \n",
       "\n",
       "   offensive_language_rating  neither_rating hate_speech_rating_words  \\\n",
       "0                        0.0             1.0                     zero   \n",
       "1                        1.0             0.0                     zero   \n",
       "\n",
       "  offensive_language_rating_words neither_rating_words  \n",
       "0                            zero                  one  \n",
       "1                             one                 zero  "
      ]
     },
     "execution_count": 34,
     "metadata": {},
     "output_type": "execute_result"
    }
   ],
   "source": [
    "df_v2.head(2)"
   ]
  },
  {
   "cell_type": "code",
   "execution_count": 35,
   "id": "396973da",
   "metadata": {},
   "outputs": [
    {
     "name": "stderr",
     "output_type": "stream",
     "text": [
      "/var/folders/4z/s5yytqj535948_tn28lrcsr40000gn/T/ipykernel_12554/1275478253.py:2: SettingWithCopyWarning: \n",
      "A value is trying to be set on a copy of a slice from a DataFrame.\n",
      "Try using .loc[row_indexer,col_indexer] = value instead\n",
      "\n",
      "See the caveats in the documentation: https://pandas.pydata.org/pandas-docs/stable/user_guide/indexing.html#returning-a-view-versus-a-copy\n",
      "  df_v2['tweet_edited'] = df_v2['tweet_edited'].apply(lambda x: ' '.join(x))\n"
     ]
    }
   ],
   "source": [
    "# Transforming list of words in tweet_edited column to sentences\n",
    "df_v2['tweet_edited'] = df_v2['tweet_edited'].apply(lambda x: ' '.join(x))"
   ]
  },
  {
   "cell_type": "code",
   "execution_count": 36,
   "id": "25c8486f",
   "metadata": {},
   "outputs": [
    {
     "name": "stderr",
     "output_type": "stream",
     "text": [
      "/var/folders/4z/s5yytqj535948_tn28lrcsr40000gn/T/ipykernel_12554/3400965476.py:2: SettingWithCopyWarning: \n",
      "A value is trying to be set on a copy of a slice from a DataFrame.\n",
      "Try using .loc[row_indexer,col_indexer] = value instead\n",
      "\n",
      "See the caveats in the documentation: https://pandas.pydata.org/pandas-docs/stable/user_guide/indexing.html#returning-a-view-versus-a-copy\n",
      "  df_v2['tweet_edited_with_ratings'] = df_v2['tweet_edited'] + ' ' + df_v2['hate_speech_rating_words'] + ' ' + df_v2['offensive_language_rating_words'] + ' ' + df_v2['neither_rating_words']\n"
     ]
    }
   ],
   "source": [
    "# Combining tweet_edited and rating in words\n",
    "df_v2['tweet_edited_with_ratings'] = df_v2['tweet_edited'] + ' ' + df_v2['hate_speech_rating_words'] + ' ' + df_v2['offensive_language_rating_words'] + ' ' + df_v2['neither_rating_words']"
   ]
  },
  {
   "cell_type": "code",
   "execution_count": 37,
   "id": "9da224ff",
   "metadata": {},
   "outputs": [
    {
     "data": {
      "text/plain": [
       "'hobbies include fighting Mariam bitch zero point three zero point seven zero'"
      ]
     },
     "execution_count": 37,
     "metadata": {},
     "output_type": "execute_result"
    }
   ],
   "source": [
    "# Checking that it worked\n",
    "df_v2['tweet_edited_with_ratings'][9]"
   ]
  },
  {
   "cell_type": "code",
   "execution_count": 38,
   "id": "595ad3c3",
   "metadata": {},
   "outputs": [],
   "source": [
    "from sklearn.model_selection import train_test_split\n",
    "from sklearn.feature_extraction.text import TfidfTransformer\n",
    "from sklearn.pipeline import Pipeline\n",
    "from sklearn.feature_extraction.text import CountVectorizer\n",
    "from sklearn.naive_bayes import MultinomialNB, BernoulliNB\n",
    "from sklearn.ensemble import RandomForestClassifier\n",
    "from sklearn.tree import DecisionTreeClassifier\n",
    "from sklearn.metrics import classification_report, confusion_matrix"
   ]
  },
  {
   "cell_type": "markdown",
   "id": "ccea38cf",
   "metadata": {},
   "source": [
    "## Building models to classify the 3 groups"
   ]
  },
  {
   "cell_type": "code",
   "execution_count": 39,
   "id": "0322dcca",
   "metadata": {},
   "outputs": [],
   "source": [
    "tweet_train,tweet_test,label_train,label_test=train_test_split(df_v2['tweet_edited_with_ratings'],\n",
    "                                                           df_v2['class'],\n",
    "                                                           test_size=0.2,\n",
    "                                                              stratify=df_v2['class'])"
   ]
  },
  {
   "cell_type": "code",
   "execution_count": 40,
   "id": "124b4867",
   "metadata": {},
   "outputs": [
    {
     "data": {
      "text/plain": [
       "16940    RT dick called Batman bitches love Dark Knight...\n",
       "17622    RT Uncle leo find iWatch trash httptcoT7GCSMCY...\n",
       "Name: tweet_edited_with_ratings, dtype: object"
      ]
     },
     "execution_count": 40,
     "metadata": {},
     "output_type": "execute_result"
    }
   ],
   "source": [
    "tweet_train.head(2)"
   ]
  },
  {
   "cell_type": "markdown",
   "id": "9a3c1ac1",
   "metadata": {},
   "source": [
    "### Naive Bayes Classifier"
   ]
  },
  {
   "cell_type": "code",
   "execution_count": 41,
   "id": "f0bbb1ef",
   "metadata": {},
   "outputs": [
    {
     "name": "stdout",
     "output_type": "stream",
     "text": [
      "[[   0  286    0]\n",
      " [   0 3832    3]\n",
      " [   0  744   88]]\n",
      "\n",
      "\n",
      "              precision    recall  f1-score   support\n",
      "\n",
      "           0       0.00      0.00      0.00       286\n",
      "           1       0.79      1.00      0.88      3835\n",
      "           2       0.97      0.11      0.19       832\n",
      "\n",
      "    accuracy                           0.79      4953\n",
      "   macro avg       0.59      0.37      0.36      4953\n",
      "weighted avg       0.77      0.79      0.71      4953\n",
      "\n"
     ]
    },
    {
     "name": "stderr",
     "output_type": "stream",
     "text": [
      "/Users/andrew/anaconda3/envs/tensorflow/lib/python3.10/site-packages/sklearn/metrics/_classification.py:1469: UndefinedMetricWarning: Precision and F-score are ill-defined and being set to 0.0 in labels with no predicted samples. Use `zero_division` parameter to control this behavior.\n",
      "  _warn_prf(average, modifier, msg_start, len(result))\n",
      "/Users/andrew/anaconda3/envs/tensorflow/lib/python3.10/site-packages/sklearn/metrics/_classification.py:1469: UndefinedMetricWarning: Precision and F-score are ill-defined and being set to 0.0 in labels with no predicted samples. Use `zero_division` parameter to control this behavior.\n",
      "  _warn_prf(average, modifier, msg_start, len(result))\n",
      "/Users/andrew/anaconda3/envs/tensorflow/lib/python3.10/site-packages/sklearn/metrics/_classification.py:1469: UndefinedMetricWarning: Precision and F-score are ill-defined and being set to 0.0 in labels with no predicted samples. Use `zero_division` parameter to control this behavior.\n",
      "  _warn_prf(average, modifier, msg_start, len(result))\n"
     ]
    }
   ],
   "source": [
    "pipeline = Pipeline([\n",
    "    ('bow', CountVectorizer()),\n",
    "    ('tfidf',TfidfTransformer()),\n",
    "    ('classifier', MultinomialNB())\n",
    "])\n",
    "\n",
    "pipeline.fit(tweet_train,label_train)\n",
    "\n",
    "predictions = pipeline.predict(tweet_test)\n",
    "\n",
    "\n",
    "print(confusion_matrix(label_test, predictions))\n",
    "print('\\n')\n",
    "print(classification_report(label_test, predictions)) "
   ]
  },
  {
   "cell_type": "markdown",
   "id": "3614ecf7",
   "metadata": {},
   "source": [
    "### Decision Tree Classifier"
   ]
  },
  {
   "cell_type": "code",
   "execution_count": 42,
   "id": "b79f2892",
   "metadata": {},
   "outputs": [
    {
     "name": "stdout",
     "output_type": "stream",
     "text": [
      "[[  77  178   31]\n",
      " [ 104 3557  174]\n",
      " [  28  142  662]]\n",
      "\n",
      "\n",
      "              precision    recall  f1-score   support\n",
      "\n",
      "           0       0.37      0.27      0.31       286\n",
      "           1       0.92      0.93      0.92      3835\n",
      "           2       0.76      0.80      0.78       832\n",
      "\n",
      "    accuracy                           0.87      4953\n",
      "   macro avg       0.68      0.66      0.67      4953\n",
      "weighted avg       0.86      0.87      0.86      4953\n",
      "\n"
     ]
    }
   ],
   "source": [
    "pipeline = Pipeline([\n",
    "    ('bow', CountVectorizer()),\n",
    "    ('tfidf',TfidfTransformer()),\n",
    "    ('classifier', DecisionTreeClassifier())\n",
    "])\n",
    "\n",
    "pipeline.fit(tweet_train,label_train)\n",
    "\n",
    "predictions = pipeline.predict(tweet_test)\n",
    "\n",
    "\n",
    "print(confusion_matrix(label_test, predictions))\n",
    "print('\\n')\n",
    "print(classification_report(label_test, predictions))      "
   ]
  },
  {
   "cell_type": "markdown",
   "id": "05c0d72e",
   "metadata": {},
   "source": [
    "### Random Forest Classifier"
   ]
  },
  {
   "cell_type": "code",
   "execution_count": 43,
   "id": "6cff37e3",
   "metadata": {},
   "outputs": [
    {
     "name": "stdout",
     "output_type": "stream",
     "text": [
      "[[  30  245   11]\n",
      " [  10 3760   65]\n",
      " [   1  295  536]]\n",
      "\n",
      "\n",
      "              precision    recall  f1-score   support\n",
      "\n",
      "           0       0.73      0.10      0.18       286\n",
      "           1       0.87      0.98      0.92      3835\n",
      "           2       0.88      0.64      0.74       832\n",
      "\n",
      "    accuracy                           0.87      4953\n",
      "   macro avg       0.83      0.58      0.62      4953\n",
      "weighted avg       0.87      0.87      0.85      4953\n",
      "\n"
     ]
    }
   ],
   "source": [
    "pipeline = Pipeline([\n",
    "    ('bow', CountVectorizer()),\n",
    "    ('tfidf',TfidfTransformer()),\n",
    "    ('classifier', RandomForestClassifier())\n",
    "])\n",
    "pipeline.fit(tweet_train,label_train)\n",
    "\n",
    "predictions = pipeline.predict(tweet_test)\n",
    "\n",
    "print(confusion_matrix(label_test, predictions))\n",
    "print('\\n')\n",
    "print(classification_report(label_test, predictions))      "
   ]
  },
  {
   "cell_type": "markdown",
   "id": "e163d350",
   "metadata": {},
   "source": [
    "### K Nearest neighbors"
   ]
  },
  {
   "cell_type": "code",
   "execution_count": 44,
   "id": "29f0b504",
   "metadata": {},
   "outputs": [],
   "source": [
    "from sklearn.neighbors import KNeighborsClassifier"
   ]
  },
  {
   "cell_type": "code",
   "execution_count": 45,
   "id": "e2576aa9",
   "metadata": {},
   "outputs": [
    {
     "name": "stdout",
     "output_type": "stream",
     "text": [
      "[[  73  198   15]\n",
      " [  66 3708   61]\n",
      " [  14  566  252]]\n",
      "\n",
      "\n",
      "              precision    recall  f1-score   support\n",
      "\n",
      "           0       0.48      0.26      0.33       286\n",
      "           1       0.83      0.97      0.89      3835\n",
      "           2       0.77      0.30      0.43       832\n",
      "\n",
      "    accuracy                           0.81      4953\n",
      "   macro avg       0.69      0.51      0.55      4953\n",
      "weighted avg       0.80      0.81      0.78      4953\n",
      "\n"
     ]
    }
   ],
   "source": [
    "pipeline = Pipeline([\n",
    "    ('bow', CountVectorizer()),\n",
    "    ('tfidf',TfidfTransformer()),\n",
    "    ('classifier', KNeighborsClassifier(n_neighbors=7))\n",
    "])\n",
    "\n",
    "pipeline.fit(tweet_train,label_train)\n",
    "\n",
    "predictions = pipeline.predict(tweet_test)\n",
    "\n",
    "\n",
    "print(confusion_matrix(label_test, predictions))\n",
    "print('\\n')\n",
    "print(classification_report(label_test, predictions)) "
   ]
  },
  {
   "cell_type": "markdown",
   "id": "8b13c84f",
   "metadata": {},
   "source": [
    "[[  47  234    5]\n",
    " [  45 3754   36]\n",
    " [   4  574  254]]\n",
    "\n",
    "\n",
    "              precision    recall  f1-score   support\n",
    "\n",
    "           0       0.49      0.16      0.25       286\n",
    "           1       0.82      0.98      0.89      3835\n",
    "           2       0.86      0.31      0.45       832\n",
    "\n",
    "    accuracy                           0.82      4953\n",
    "   macro avg       0.72      0.48      0.53      4953\n",
    "weighted avg       0.81      0.82      0.78      4953\n"
   ]
  },
  {
   "cell_type": "markdown",
   "id": "8547f85c",
   "metadata": {},
   "source": [
    "[[  52  359   18]\n",
    " [  50 5644   58]\n",
    " [   2  891  356]]\n",
    "\n",
    "\n",
    "              precision    recall  f1-score   support\n",
    "\n",
    "           0       0.50      0.12      0.20       429\n",
    "           1       0.82      0.98      0.89      5752\n",
    "           2       0.82      0.29      0.42      1249\n",
    "\n",
    "    accuracy                           0.81      7430\n",
    "   macro avg       0.71      0.46      0.50      7430\n",
    "weighted avg       0.80      0.81      0.77      7430\n"
   ]
  },
  {
   "cell_type": "markdown",
   "id": "c38502c3",
   "metadata": {},
   "source": [
    "### Support Vector Machine Algorithm"
   ]
  },
  {
   "cell_type": "code",
   "execution_count": 46,
   "id": "bb3df031",
   "metadata": {},
   "outputs": [],
   "source": [
    "from sklearn.svm import SVC"
   ]
  },
  {
   "cell_type": "code",
   "execution_count": 47,
   "id": "ed91ab55",
   "metadata": {},
   "outputs": [
    {
     "name": "stdout",
     "output_type": "stream",
     "text": [
      "[[  39  232   15]\n",
      " [  15 3720  100]\n",
      " [   1  166  665]]\n",
      "\n",
      "\n",
      "              precision    recall  f1-score   support\n",
      "\n",
      "           0       0.71      0.14      0.23       286\n",
      "           1       0.90      0.97      0.94      3835\n",
      "           2       0.85      0.80      0.83       832\n",
      "\n",
      "    accuracy                           0.89      4953\n",
      "   macro avg       0.82      0.64      0.66      4953\n",
      "weighted avg       0.88      0.89      0.88      4953\n",
      "\n"
     ]
    }
   ],
   "source": [
    "pipeline = Pipeline([\n",
    "    ('bow', CountVectorizer()),\n",
    "    ('tfidf',TfidfTransformer()),\n",
    "    ('classifier', SVC())\n",
    "])\n",
    "\n",
    "pipeline.fit(tweet_train,label_train)\n",
    "\n",
    "predictions = pipeline.predict(tweet_test)\n",
    "\n",
    "\n",
    "print(confusion_matrix(label_test, predictions))\n",
    "print('\\n')\n",
    "print(classification_report(label_test, predictions))   "
   ]
  },
  {
   "cell_type": "markdown",
   "id": "d8a7db27",
   "metadata": {},
   "source": [
    "### K Nearest Neighbors Classifier"
   ]
  },
  {
   "cell_type": "code",
   "execution_count": 48,
   "id": "0b2a7fcb",
   "metadata": {},
   "outputs": [],
   "source": [
    "# Bag words used in all tweets are created\n",
    "# CountVectorizer class is used to transform the words into numeric values\n",
    "bow_transformer = CountVectorizer().fit(df_v2['tweet_edited_with_ratings'])"
   ]
  },
  {
   "cell_type": "code",
   "execution_count": 49,
   "id": "564fa4a9",
   "metadata": {},
   "outputs": [],
   "source": [
    "tweets_bow = bow_transformer.transform(df_v2['tweet_edited_with_ratings'])"
   ]
  },
  {
   "cell_type": "code",
   "execution_count": 50,
   "id": "77b570ff",
   "metadata": {},
   "outputs": [
    {
     "name": "stdout",
     "output_type": "stream",
     "text": [
      "30078\n"
     ]
    }
   ],
   "source": [
    "# Showing total number of words used \n",
    "print(len(bow_transformer.vocabulary_))"
   ]
  },
  {
   "cell_type": "code",
   "execution_count": 51,
   "id": "e33bfec9",
   "metadata": {},
   "outputs": [],
   "source": [
    "# The code below can be used to show the words used and the numeric value assigned to them\n",
    "# Output is a dictionary\n",
    "# print(bow_transformer.vocabulary_)"
   ]
  },
  {
   "cell_type": "code",
   "execution_count": 52,
   "id": "ab433e07",
   "metadata": {},
   "outputs": [],
   "source": [
    "from sklearn.feature_extraction.text import TfidfTransformer"
   ]
  },
  {
   "cell_type": "code",
   "execution_count": 53,
   "id": "2635b983",
   "metadata": {},
   "outputs": [],
   "source": [
    "# Tfidf counts the number of times a word appears and attaches a weight to it\n",
    "# The result is a sparse matrix\n",
    "tfidf_transformer = TfidfTransformer().fit(tweets_bow)"
   ]
  },
  {
   "cell_type": "code",
   "execution_count": 54,
   "id": "a13c088c",
   "metadata": {},
   "outputs": [
    {
     "name": "stdout",
     "output_type": "stream",
     "text": [
      "TMadisonx shit blows meclaim faithful somebody still fucking hoes 128514128514128514 zero point three zero point seven zero\n",
      "  (0, 688)\t1\n",
      "  (0, 5767)\t1\n",
      "  (0, 10346)\t1\n",
      "  (0, 11265)\t1\n",
      "  (0, 12990)\t1\n",
      "  (0, 19312)\t1\n",
      "  (0, 22086)\t2\n",
      "  (0, 24539)\t1\n",
      "  (0, 24737)\t1\n",
      "  (0, 25482)\t1\n",
      "  (0, 26034)\t1\n",
      "  (0, 27152)\t1\n",
      "  (0, 27343)\t1\n",
      "  (0, 30022)\t3\n",
      "(1, 30078)\n",
      "  (0, 30022)\t0.126636027739057\n",
      "  (0, 27343)\t0.44001965025822815\n",
      "  (0, 27152)\t0.09740307602345726\n",
      "  (0, 26034)\t0.21001104569701223\n",
      "  (0, 25482)\t0.29179026172530675\n",
      "  (0, 24737)\t0.17059467626143018\n",
      "  (0, 24539)\t0.09759886784401024\n",
      "  (0, 22086)\t0.18699947100737846\n",
      "  (0, 19312)\t0.44001965025822815\n",
      "  (0, 12990)\t0.14455996434065582\n",
      "  (0, 11265)\t0.19883150824088\n",
      "  (0, 10346)\t0.34076337616119934\n",
      "  (0, 5767)\t0.3815013798684692\n",
      "  (0, 688)\t0.24960720706014256\n"
     ]
    }
   ],
   "source": [
    "# Transforming one row before transforming the entire column to confirm the result\n",
    "tweet5 = df_v2['tweet_edited_with_ratings'][5]\n",
    "print(tweet5)\n",
    "\n",
    "bow5 = bow_transformer.transform([tweet5])\n",
    "print(bow5)\n",
    "print(bow5.shape)\n",
    "\n",
    "tfidf5 = tfidf_transformer.transform(bow5)\n",
    "print(tfidf5)"
   ]
  },
  {
   "cell_type": "code",
   "execution_count": 55,
   "id": "5d9081d4",
   "metadata": {},
   "outputs": [
    {
     "name": "stdout",
     "output_type": "stream",
     "text": [
      "(24764, 30078)\n"
     ]
    },
    {
     "data": {
      "text/plain": [
       "scipy.sparse._csr.csr_matrix"
      ]
     },
     "execution_count": 55,
     "metadata": {},
     "output_type": "execute_result"
    }
   ],
   "source": [
    "# Tranforming the entire column and displaying the shape and data type\n",
    "tweets_tfidf = tfidf_transformer.transform(tweets_bow)\n",
    "print(tweets_tfidf.shape)\n",
    "type(tweets_tfidf)"
   ]
  },
  {
   "cell_type": "code",
   "execution_count": 56,
   "id": "31ac73a6",
   "metadata": {},
   "outputs": [],
   "source": [
    "tweet_train,tweet_test,label_train,label_test=train_test_split(tweets_tfidf,df_v2['class'],test_size=0.3,stratify=df_v2['class'])"
   ]
  },
  {
   "cell_type": "code",
   "execution_count": 57,
   "id": "8a62041f",
   "metadata": {},
   "outputs": [],
   "source": [
    "from sklearn.neighbors import KNeighborsClassifier\n",
    "import numpy as np"
   ]
  },
  {
   "cell_type": "code",
   "execution_count": 58,
   "id": "eb87048c",
   "metadata": {},
   "outputs": [],
   "source": [
    "# Using elbow method to find the right k value\n",
    "\n",
    "error_rate = []\n",
    "\n",
    "for i in range(1,40):\n",
    "    \n",
    "    knn = KNeighborsClassifier(n_neighbors=i)\n",
    "    knn.fit(tweet_train,label_train)\n",
    "    pred_i = knn.predict(tweet_test)\n",
    "    error_rate.append(np.mean(pred_i != label_test))"
   ]
  },
  {
   "cell_type": "code",
   "execution_count": 59,
   "id": "ef54af7c",
   "metadata": {},
   "outputs": [
    {
     "data": {
      "image/png": "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",
      "text/plain": [
       "<Figure size 1000x600 with 1 Axes>"
      ]
     },
     "metadata": {},
     "output_type": "display_data"
    }
   ],
   "source": [
    "plt.figure(figsize=(10,6))\n",
    "plt.plot(range(1,40),error_rate,color='blue', linestyle='dashed', marker='o',\n",
    "         markerfacecolor='red', markersize=10)\n",
    "plt.title('Error Rate vs. K Value')\n",
    "plt.xlabel('K')\n",
    "plt.ylabel('Error Rate')\n",
    "plt.show()"
   ]
  },
  {
   "cell_type": "code",
   "execution_count": 87,
   "id": "94958ff5",
   "metadata": {},
   "outputs": [
    {
     "name": "stdout",
     "output_type": "stream",
     "text": [
      "WITH K=7\n",
      "\n",
      "\n",
      "[[5483  269]\n",
      " [1070  608]]\n",
      "\n",
      "\n",
      "              precision    recall  f1-score   support\n",
      "\n",
      "           0       0.84      0.95      0.89      5752\n",
      "           1       0.69      0.36      0.48      1678\n",
      "\n",
      "    accuracy                           0.82      7430\n",
      "   macro avg       0.76      0.66      0.68      7430\n",
      "weighted avg       0.80      0.82      0.80      7430\n",
      "\n"
     ]
    }
   ],
   "source": [
    "# NOW WITH K=7\n",
    "knn = KNeighborsClassifier(n_neighbors=7)\n",
    "\n",
    "knn.fit(tweet_train,label_train)\n",
    "pred = knn.predict(tweet_test)\n",
    "\n",
    "print('WITH K=7')\n",
    "print('\\n')\n",
    "print(confusion_matrix(label_test,pred))\n",
    "print('\\n')\n",
    "print(classification_report(label_test,pred))"
   ]
  },
  {
   "cell_type": "code",
   "execution_count": null,
   "id": "1af22a4b",
   "metadata": {},
   "outputs": [],
   "source": []
  },
  {
   "cell_type": "markdown",
   "id": "58df378d",
   "metadata": {},
   "source": [
    "## Two model approach"
   ]
  },
  {
   "cell_type": "markdown",
   "id": "b577d6a7",
   "metadata": {},
   "source": [
    "Two models are built:\n",
    "\n",
    "Model 1 - To classify 'okay language' and 'bad language'\n",
    "\n",
    "Model 2 - To classify 'bad language' into 2 groups; offensive language and hate speech"
   ]
  },
  {
   "cell_type": "code",
   "execution_count": 62,
   "id": "b90541ac",
   "metadata": {},
   "outputs": [],
   "source": [
    "df_v3 = df_v2.copy()"
   ]
  },
  {
   "cell_type": "code",
   "execution_count": 63,
   "id": "c0a7a8e5",
   "metadata": {},
   "outputs": [
    {
     "data": {
      "text/html": [
       "<div>\n",
       "<style scoped>\n",
       "    .dataframe tbody tr th:only-of-type {\n",
       "        vertical-align: middle;\n",
       "    }\n",
       "\n",
       "    .dataframe tbody tr th {\n",
       "        vertical-align: top;\n",
       "    }\n",
       "\n",
       "    .dataframe thead th {\n",
       "        text-align: right;\n",
       "    }\n",
       "</style>\n",
       "<table border=\"1\" class=\"dataframe\">\n",
       "  <thead>\n",
       "    <tr style=\"text-align: right;\">\n",
       "      <th></th>\n",
       "      <th>count</th>\n",
       "      <th>hate_speech</th>\n",
       "      <th>offensive_language</th>\n",
       "      <th>neither</th>\n",
       "      <th>class</th>\n",
       "      <th>tweet</th>\n",
       "      <th>tweet_length</th>\n",
       "      <th>tweet_edited</th>\n",
       "      <th>hate_speech_rating</th>\n",
       "      <th>offensive_language_rating</th>\n",
       "      <th>neither_rating</th>\n",
       "      <th>hate_speech_rating_words</th>\n",
       "      <th>offensive_language_rating_words</th>\n",
       "      <th>neither_rating_words</th>\n",
       "      <th>tweet_edited_with_ratings</th>\n",
       "    </tr>\n",
       "  </thead>\n",
       "  <tbody>\n",
       "    <tr>\n",
       "      <th>0</th>\n",
       "      <td>3</td>\n",
       "      <td>0</td>\n",
       "      <td>0</td>\n",
       "      <td>3</td>\n",
       "      <td>2</td>\n",
       "      <td>!!! RT @mayasolovely: As a woman you shouldn't...</td>\n",
       "      <td>140</td>\n",
       "      <td>RT woman shouldnt complain cleaning house amp ...</td>\n",
       "      <td>0.0</td>\n",
       "      <td>0.0</td>\n",
       "      <td>1.0</td>\n",
       "      <td>zero</td>\n",
       "      <td>zero</td>\n",
       "      <td>one</td>\n",
       "      <td>RT woman shouldnt complain cleaning house amp ...</td>\n",
       "    </tr>\n",
       "    <tr>\n",
       "      <th>1</th>\n",
       "      <td>3</td>\n",
       "      <td>0</td>\n",
       "      <td>3</td>\n",
       "      <td>0</td>\n",
       "      <td>1</td>\n",
       "      <td>!!!!! RT @mleew17: boy dats cold...tyga dwn ba...</td>\n",
       "      <td>85</td>\n",
       "      <td>RT boy dats coldtyga dwn bad cuffin dat hoe 1s...</td>\n",
       "      <td>0.0</td>\n",
       "      <td>1.0</td>\n",
       "      <td>0.0</td>\n",
       "      <td>zero</td>\n",
       "      <td>one</td>\n",
       "      <td>zero</td>\n",
       "      <td>RT boy dats coldtyga dwn bad cuffin dat hoe 1s...</td>\n",
       "    </tr>\n",
       "  </tbody>\n",
       "</table>\n",
       "</div>"
      ],
      "text/plain": [
       "   count  hate_speech  offensive_language  neither  class  \\\n",
       "0      3            0                   0        3      2   \n",
       "1      3            0                   3        0      1   \n",
       "\n",
       "                                               tweet  tweet_length  \\\n",
       "0  !!! RT @mayasolovely: As a woman you shouldn't...           140   \n",
       "1  !!!!! RT @mleew17: boy dats cold...tyga dwn ba...            85   \n",
       "\n",
       "                                        tweet_edited  hate_speech_rating  \\\n",
       "0  RT woman shouldnt complain cleaning house amp ...                 0.0   \n",
       "1  RT boy dats coldtyga dwn bad cuffin dat hoe 1s...                 0.0   \n",
       "\n",
       "   offensive_language_rating  neither_rating hate_speech_rating_words  \\\n",
       "0                        0.0             1.0                     zero   \n",
       "1                        1.0             0.0                     zero   \n",
       "\n",
       "  offensive_language_rating_words neither_rating_words  \\\n",
       "0                            zero                  one   \n",
       "1                             one                 zero   \n",
       "\n",
       "                           tweet_edited_with_ratings  \n",
       "0  RT woman shouldnt complain cleaning house amp ...  \n",
       "1  RT boy dats coldtyga dwn bad cuffin dat hoe 1s...  "
      ]
     },
     "execution_count": 63,
     "metadata": {},
     "output_type": "execute_result"
    }
   ],
   "source": [
    "df_v3.head(2)"
   ]
  },
  {
   "cell_type": "markdown",
   "id": "1cbf8e8f",
   "metadata": {},
   "source": [
    "### Model One"
   ]
  },
  {
   "cell_type": "markdown",
   "id": "e0f7ef52",
   "metadata": {},
   "source": [
    "### New classes created: \n",
    "#### 0 - neither (okay language)\n",
    "#### 1 - offensive language and hate speech (bad language)"
   ]
  },
  {
   "cell_type": "code",
   "execution_count": 64,
   "id": "a75b3919",
   "metadata": {},
   "outputs": [],
   "source": [
    "df_v3['class_new'] = df_v3['class'].apply(lambda x: 0 if x == 1 else 1)"
   ]
  },
  {
   "cell_type": "code",
   "execution_count": 65,
   "id": "6ba4c434",
   "metadata": {},
   "outputs": [
    {
     "data": {
      "text/plain": [
       "array([1, 0])"
      ]
     },
     "execution_count": 65,
     "metadata": {},
     "output_type": "execute_result"
    }
   ],
   "source": [
    "df_v3['class_new'].unique()"
   ]
  },
  {
   "cell_type": "code",
   "execution_count": 66,
   "id": "009f0553",
   "metadata": {},
   "outputs": [
    {
     "data": {
      "image/png": "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",
      "text/plain": [
       "<Figure size 640x480 with 1 Axes>"
      ]
     },
     "metadata": {},
     "output_type": "display_data"
    }
   ],
   "source": [
    "df_v3['class'].value_counts().plot(kind='bar')\n",
    "plt.title('Original class imbalance')\n",
    "plt.show()"
   ]
  },
  {
   "cell_type": "code",
   "execution_count": 67,
   "id": "3550900c",
   "metadata": {},
   "outputs": [
    {
     "data": {
      "image/png": "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",
      "text/plain": [
       "<Figure size 640x480 with 1 Axes>"
      ]
     },
     "metadata": {},
     "output_type": "display_data"
    }
   ],
   "source": [
    "df_v3['class_new'].value_counts().plot(kind='bar')\n",
    "plt.title('New class imbalance')\n",
    "plt.show()"
   ]
  },
  {
   "cell_type": "code",
   "execution_count": 68,
   "id": "6f9eb099",
   "metadata": {},
   "outputs": [
    {
     "data": {
      "text/plain": [
       "[0.77, 0.23]"
      ]
     },
     "execution_count": 68,
     "metadata": {},
     "output_type": "execute_result"
    }
   ],
   "source": [
    "# New class imbalance\n",
    "class_1 = round(df_v3['class_new'].value_counts()[1] / len(df_v3),2)\n",
    "[1-class_1, class_1]"
   ]
  },
  {
   "cell_type": "markdown",
   "id": "03c57815",
   "metadata": {},
   "source": [
    "### Naive Bayes Classifier"
   ]
  },
  {
   "cell_type": "code",
   "execution_count": 69,
   "id": "569b9e37",
   "metadata": {},
   "outputs": [],
   "source": [
    "tweet__train,tweet__test,label__train,label__test=train_test_split(df_v3['tweet_edited_with_ratings'],\n",
    "                                                           df_v3['class_new'],\n",
    "                                                           test_size=0.2,\n",
    "                                                              stratify=df_v3['class_new'])"
   ]
  },
  {
   "cell_type": "code",
   "execution_count": 70,
   "id": "cfeb0880",
   "metadata": {},
   "outputs": [
    {
     "name": "stdout",
     "output_type": "stream",
     "text": [
      "[[3756   79]\n",
      " [ 708  410]]\n",
      "\n",
      "\n",
      "              precision    recall  f1-score   support\n",
      "\n",
      "           0       0.84      0.98      0.91      3835\n",
      "           1       0.84      0.37      0.51      1118\n",
      "\n",
      "    accuracy                           0.84      4953\n",
      "   macro avg       0.84      0.67      0.71      4953\n",
      "weighted avg       0.84      0.84      0.82      4953\n",
      "\n"
     ]
    }
   ],
   "source": [
    "pipeline = Pipeline([\n",
    "    ('bow', CountVectorizer()),\n",
    "    ('tfidf',TfidfTransformer()),\n",
    "    ('classifier', BernoulliNB())\n",
    "])\n",
    "\n",
    "pipeline.fit(tweet__train,label__train)\n",
    "\n",
    "predictions = pipeline.predict(tweet__test)\n",
    "\n",
    "\n",
    "print(confusion_matrix(label__test, predictions))\n",
    "print('\\n')\n",
    "print(classification_report(label__test, predictions)) "
   ]
  },
  {
   "cell_type": "markdown",
   "id": "6bbab819",
   "metadata": {},
   "source": [
    "### DecisionTree classifier"
   ]
  },
  {
   "cell_type": "code",
   "execution_count": 71,
   "id": "907c3952",
   "metadata": {},
   "outputs": [
    {
     "name": "stdout",
     "output_type": "stream",
     "text": [
      "[[3555  280]\n",
      " [ 288  830]]\n",
      "\n",
      "\n",
      "              precision    recall  f1-score   support\n",
      "\n",
      "           0       0.93      0.93      0.93      3835\n",
      "           1       0.75      0.74      0.75      1118\n",
      "\n",
      "    accuracy                           0.89      4953\n",
      "   macro avg       0.84      0.83      0.84      4953\n",
      "weighted avg       0.89      0.89      0.89      4953\n",
      "\n"
     ]
    }
   ],
   "source": [
    "pipeline = Pipeline([\n",
    "    ('bow', CountVectorizer()),\n",
    "    ('tfidf',TfidfTransformer()),\n",
    "    ('classifier', DecisionTreeClassifier())\n",
    "])\n",
    "\n",
    "pipeline.fit(tweet__train,label__train)\n",
    "\n",
    "predictions = pipeline.predict(tweet__test)\n",
    "\n",
    "\n",
    "print(confusion_matrix(label__test, predictions))\n",
    "print('\\n')\n",
    "print(classification_report(label__test, predictions))      "
   ]
  },
  {
   "cell_type": "markdown",
   "id": "0989f960",
   "metadata": {},
   "source": [
    "### Random Forest Classifier"
   ]
  },
  {
   "cell_type": "code",
   "execution_count": 72,
   "id": "a7d3a0d3",
   "metadata": {},
   "outputs": [
    {
     "name": "stdout",
     "output_type": "stream",
     "text": [
      "[[3729  106]\n",
      " [ 478  640]]\n",
      "\n",
      "\n",
      "              precision    recall  f1-score   support\n",
      "\n",
      "           0       0.89      0.97      0.93      3835\n",
      "           1       0.86      0.57      0.69      1118\n",
      "\n",
      "    accuracy                           0.88      4953\n",
      "   macro avg       0.87      0.77      0.81      4953\n",
      "weighted avg       0.88      0.88      0.87      4953\n",
      "\n"
     ]
    }
   ],
   "source": [
    "pipeline = Pipeline([\n",
    "    ('bow', CountVectorizer()),\n",
    "    ('tfidf',TfidfTransformer()),\n",
    "    ('classifier', RandomForestClassifier())\n",
    "])\n",
    "pipeline.fit(tweet__train,label__train)\n",
    "\n",
    "predictions = pipeline.predict(tweet__test)\n",
    "\n",
    "print(confusion_matrix(label__test, predictions))\n",
    "print('\\n')\n",
    "print(classification_report(label__test, predictions))      "
   ]
  },
  {
   "cell_type": "markdown",
   "id": "b3a6235d",
   "metadata": {},
   "source": [
    "### Support Vector Machines Classifier"
   ]
  },
  {
   "cell_type": "code",
   "execution_count": 73,
   "id": "0ba3110d",
   "metadata": {},
   "outputs": [
    {
     "name": "stdout",
     "output_type": "stream",
     "text": [
      "[[3635  200]\n",
      " [ 287  831]]\n",
      "\n",
      "\n",
      "              precision    recall  f1-score   support\n",
      "\n",
      "           0       0.93      0.95      0.94      3835\n",
      "           1       0.81      0.74      0.77      1118\n",
      "\n",
      "    accuracy                           0.90      4953\n",
      "   macro avg       0.87      0.85      0.86      4953\n",
      "weighted avg       0.90      0.90      0.90      4953\n",
      "\n"
     ]
    }
   ],
   "source": [
    "pipeline = Pipeline([\n",
    "    ('bow', CountVectorizer()),\n",
    "    ('tfidf',TfidfTransformer()),\n",
    "    ('classifier', SVC())\n",
    "])\n",
    "\n",
    "pipeline.fit(tweet__train,label__train)\n",
    "\n",
    "predictions = pipeline.predict(tweet__test)\n",
    "\n",
    "\n",
    "print(confusion_matrix(label__test, predictions))\n",
    "print('\\n')\n",
    "print(classification_report(label__test, predictions))   "
   ]
  },
  {
   "cell_type": "markdown",
   "id": "c796aa2b",
   "metadata": {},
   "source": [
    "### K Nearest Neighbors"
   ]
  },
  {
   "cell_type": "code",
   "execution_count": 74,
   "id": "8e3a9a43",
   "metadata": {},
   "outputs": [
    {
     "data": {
      "image/png": "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",
      "text/plain": [
       "<Figure size 1000x600 with 1 Axes>"
      ]
     },
     "metadata": {},
     "output_type": "display_data"
    }
   ],
   "source": [
    "tweet_train,tweet_test,label_train,label_test=train_test_split(tweets_tfidf,df_v3['class_new'],test_size=0.3,stratify=df_v3['class_new'])\n",
    "\n",
    "error_rate = []\n",
    "\n",
    "# Will take some time\n",
    "for i in range(1,40):\n",
    "    \n",
    "    knn = KNeighborsClassifier(n_neighbors=i)\n",
    "    knn.fit(tweet_train,label_train)\n",
    "    pred_i = knn.predict(tweet_test)\n",
    "    error_rate.append(np.mean(pred_i != label_test))\n",
    "    \n",
    "plt.figure(figsize=(10,6))\n",
    "plt.plot(range(1,40),error_rate,color='blue', linestyle='dashed', marker='o',\n",
    "         markerfacecolor='red', markersize=10)\n",
    "plt.title('Error Rate vs. K Value')\n",
    "plt.xlabel('K')\n",
    "plt.ylabel('Error Rate')\n",
    "plt.show()"
   ]
  },
  {
   "cell_type": "code",
   "execution_count": 75,
   "id": "7a54ee03",
   "metadata": {},
   "outputs": [
    {
     "name": "stdout",
     "output_type": "stream",
     "text": [
      "WITH K=5\n",
      "\n",
      "\n",
      "[[5446  306]\n",
      " [1054  624]]\n",
      "\n",
      "\n",
      "              precision    recall  f1-score   support\n",
      "\n",
      "           0       0.84      0.95      0.89      5752\n",
      "           1       0.67      0.37      0.48      1678\n",
      "\n",
      "    accuracy                           0.82      7430\n",
      "   macro avg       0.75      0.66      0.68      7430\n",
      "weighted avg       0.80      0.82      0.80      7430\n",
      "\n"
     ]
    }
   ],
   "source": [
    "# NOW WITH K=5\n",
    "knn = KNeighborsClassifier(n_neighbors=5)\n",
    "\n",
    "knn.fit(tweet_train,label_train)\n",
    "pred = knn.predict(tweet_test)\n",
    "\n",
    "print('WITH K=5')\n",
    "print('\\n')\n",
    "print(confusion_matrix(label_test,pred))\n",
    "print('\\n')\n",
    "print(classification_report(label_test,pred))"
   ]
  },
  {
   "cell_type": "markdown",
   "id": "b1f523df",
   "metadata": {},
   "source": [
    "## Model Two\n",
    "\n",
    "### Classes are:\n",
    "### 0 - Offensive language \n",
    "### 1 -  hateful speech"
   ]
  },
  {
   "cell_type": "code",
   "execution_count": 76,
   "id": "39f2f29e",
   "metadata": {},
   "outputs": [],
   "source": [
    "# Filtering dataset to include only offensive language and hateful speech rows\n",
    "df_v4 = df_v2[(df_v2['class'] == 0) | (df_v2['class'] == 2)]"
   ]
  },
  {
   "cell_type": "code",
   "execution_count": 77,
   "id": "a423ed41",
   "metadata": {},
   "outputs": [
    {
     "name": "stdout",
     "output_type": "stream",
     "text": [
      "<class 'pandas.core.frame.DataFrame'>\n",
      "Index: 5592 entries, 0 to 25296\n",
      "Data columns (total 15 columns):\n",
      " #   Column                           Non-Null Count  Dtype  \n",
      "---  ------                           --------------  -----  \n",
      " 0   count                            5592 non-null   int64  \n",
      " 1   hate_speech                      5592 non-null   int64  \n",
      " 2   offensive_language               5592 non-null   int64  \n",
      " 3   neither                          5592 non-null   int64  \n",
      " 4   class                            5592 non-null   int64  \n",
      " 5   tweet                            5592 non-null   object \n",
      " 6   tweet_length                     5592 non-null   int64  \n",
      " 7   tweet_edited                     5592 non-null   object \n",
      " 8   hate_speech_rating               5592 non-null   float64\n",
      " 9   offensive_language_rating        5592 non-null   float64\n",
      " 10  neither_rating                   5592 non-null   float64\n",
      " 11  hate_speech_rating_words         5592 non-null   object \n",
      " 12  offensive_language_rating_words  5592 non-null   object \n",
      " 13  neither_rating_words             5592 non-null   object \n",
      " 14  tweet_edited_with_ratings        5592 non-null   object \n",
      "dtypes: float64(3), int64(6), object(6)\n",
      "memory usage: 699.0+ KB\n"
     ]
    }
   ],
   "source": [
    "df_v4.info()"
   ]
  },
  {
   "cell_type": "code",
   "execution_count": 78,
   "id": "5a9f4208",
   "metadata": {},
   "outputs": [
    {
     "data": {
      "text/html": [
       "<div>\n",
       "<style scoped>\n",
       "    .dataframe tbody tr th:only-of-type {\n",
       "        vertical-align: middle;\n",
       "    }\n",
       "\n",
       "    .dataframe tbody tr th {\n",
       "        vertical-align: top;\n",
       "    }\n",
       "\n",
       "    .dataframe thead th {\n",
       "        text-align: right;\n",
       "    }\n",
       "</style>\n",
       "<table border=\"1\" class=\"dataframe\">\n",
       "  <thead>\n",
       "    <tr style=\"text-align: right;\">\n",
       "      <th></th>\n",
       "      <th>count</th>\n",
       "      <th>hate_speech</th>\n",
       "      <th>offensive_language</th>\n",
       "      <th>neither</th>\n",
       "      <th>class</th>\n",
       "      <th>tweet</th>\n",
       "      <th>tweet_length</th>\n",
       "      <th>tweet_edited</th>\n",
       "      <th>hate_speech_rating</th>\n",
       "      <th>offensive_language_rating</th>\n",
       "      <th>neither_rating</th>\n",
       "      <th>hate_speech_rating_words</th>\n",
       "      <th>offensive_language_rating_words</th>\n",
       "      <th>neither_rating_words</th>\n",
       "      <th>tweet_edited_with_ratings</th>\n",
       "    </tr>\n",
       "  </thead>\n",
       "  <tbody>\n",
       "    <tr>\n",
       "      <th>0</th>\n",
       "      <td>3</td>\n",
       "      <td>0</td>\n",
       "      <td>0</td>\n",
       "      <td>3</td>\n",
       "      <td>2</td>\n",
       "      <td>!!! RT @mayasolovely: As a woman you shouldn't...</td>\n",
       "      <td>140</td>\n",
       "      <td>RT woman shouldnt complain cleaning house amp ...</td>\n",
       "      <td>0.0</td>\n",
       "      <td>0.000000</td>\n",
       "      <td>1.000000</td>\n",
       "      <td>zero</td>\n",
       "      <td>zero</td>\n",
       "      <td>one</td>\n",
       "      <td>RT woman shouldnt complain cleaning house amp ...</td>\n",
       "    </tr>\n",
       "    <tr>\n",
       "      <th>40</th>\n",
       "      <td>3</td>\n",
       "      <td>0</td>\n",
       "      <td>1</td>\n",
       "      <td>2</td>\n",
       "      <td>2</td>\n",
       "      <td>\" momma said no pussy cats inside my doghouse \"</td>\n",
       "      <td>47</td>\n",
       "      <td>momma said pussy cats inside doghouse</td>\n",
       "      <td>0.0</td>\n",
       "      <td>0.333333</td>\n",
       "      <td>0.666667</td>\n",
       "      <td>zero</td>\n",
       "      <td>zero point three</td>\n",
       "      <td>zero point seven</td>\n",
       "      <td>momma said pussy cats inside doghouse zero zer...</td>\n",
       "    </tr>\n",
       "  </tbody>\n",
       "</table>\n",
       "</div>"
      ],
      "text/plain": [
       "    count  hate_speech  offensive_language  neither  class  \\\n",
       "0       3            0                   0        3      2   \n",
       "40      3            0                   1        2      2   \n",
       "\n",
       "                                                tweet  tweet_length  \\\n",
       "0   !!! RT @mayasolovely: As a woman you shouldn't...           140   \n",
       "40    \" momma said no pussy cats inside my doghouse \"            47   \n",
       "\n",
       "                                         tweet_edited  hate_speech_rating  \\\n",
       "0   RT woman shouldnt complain cleaning house amp ...                 0.0   \n",
       "40              momma said pussy cats inside doghouse                 0.0   \n",
       "\n",
       "    offensive_language_rating  neither_rating hate_speech_rating_words  \\\n",
       "0                    0.000000        1.000000                     zero   \n",
       "40                   0.333333        0.666667                     zero   \n",
       "\n",
       "   offensive_language_rating_words neither_rating_words  \\\n",
       "0                             zero                  one   \n",
       "40                zero point three     zero point seven   \n",
       "\n",
       "                            tweet_edited_with_ratings  \n",
       "0   RT woman shouldnt complain cleaning house amp ...  \n",
       "40  momma said pussy cats inside doghouse zero zer...  "
      ]
     },
     "execution_count": 78,
     "metadata": {},
     "output_type": "execute_result"
    }
   ],
   "source": [
    "df_v4.head(2)"
   ]
  },
  {
   "cell_type": "code",
   "execution_count": 79,
   "id": "8073db0e",
   "metadata": {},
   "outputs": [],
   "source": [
    "# Further filtering\n",
    "df_v4_filtered = df_v4[['tweet_edited_with_ratings','class']]"
   ]
  },
  {
   "cell_type": "code",
   "execution_count": 80,
   "id": "40044b07",
   "metadata": {},
   "outputs": [
    {
     "name": "stderr",
     "output_type": "stream",
     "text": [
      "/var/folders/4z/s5yytqj535948_tn28lrcsr40000gn/T/ipykernel_12554/1337221479.py:4: SettingWithCopyWarning: \n",
      "A value is trying to be set on a copy of a slice from a DataFrame.\n",
      "Try using .loc[row_indexer,col_indexer] = value instead\n",
      "\n",
      "See the caveats in the documentation: https://pandas.pydata.org/pandas-docs/stable/user_guide/indexing.html#returning-a-view-versus-a-copy\n",
      "  df_v4_filtered['class_new'] = df_v4_filtered['class'].apply(lambda x: 0 if x == 2 else 1)\n"
     ]
    }
   ],
   "source": [
    "# Renaming classes\n",
    "# 0 - offensive language\n",
    "# 1 - hateful speech\n",
    "df_v4_filtered['class_new'] = df_v4_filtered['class'].apply(lambda x: 0 if x == 2 else 1)"
   ]
  },
  {
   "cell_type": "code",
   "execution_count": 81,
   "id": "55373dba",
   "metadata": {},
   "outputs": [
    {
     "data": {
      "text/html": [
       "<div>\n",
       "<style scoped>\n",
       "    .dataframe tbody tr th:only-of-type {\n",
       "        vertical-align: middle;\n",
       "    }\n",
       "\n",
       "    .dataframe tbody tr th {\n",
       "        vertical-align: top;\n",
       "    }\n",
       "\n",
       "    .dataframe thead th {\n",
       "        text-align: right;\n",
       "    }\n",
       "</style>\n",
       "<table border=\"1\" class=\"dataframe\">\n",
       "  <thead>\n",
       "    <tr style=\"text-align: right;\">\n",
       "      <th></th>\n",
       "      <th>tweet_edited_with_ratings</th>\n",
       "      <th>class</th>\n",
       "      <th>class_new</th>\n",
       "    </tr>\n",
       "  </thead>\n",
       "  <tbody>\n",
       "    <tr>\n",
       "      <th>0</th>\n",
       "      <td>RT woman shouldnt complain cleaning house amp ...</td>\n",
       "      <td>2</td>\n",
       "      <td>0</td>\n",
       "    </tr>\n",
       "    <tr>\n",
       "      <th>40</th>\n",
       "      <td>momma said pussy cats inside doghouse zero zer...</td>\n",
       "      <td>2</td>\n",
       "      <td>0</td>\n",
       "    </tr>\n",
       "    <tr>\n",
       "      <th>63</th>\n",
       "      <td>Addicted2Guys SimplyAddictedToGuys httptco1jL4...</td>\n",
       "      <td>2</td>\n",
       "      <td>0</td>\n",
       "    </tr>\n",
       "    <tr>\n",
       "      <th>66</th>\n",
       "      <td>AllAboutManFeet httptco3gzUpfuMev woof woof ho...</td>\n",
       "      <td>2</td>\n",
       "      <td>0</td>\n",
       "    </tr>\n",
       "    <tr>\n",
       "      <th>67</th>\n",
       "      <td>Allyhaaaaa Lemmie eat Oreo amp dishes One oreo...</td>\n",
       "      <td>2</td>\n",
       "      <td>0</td>\n",
       "    </tr>\n",
       "    <tr>\n",
       "      <th>70</th>\n",
       "      <td>ArizonasFinest6 eggplant emoji doey say looked...</td>\n",
       "      <td>2</td>\n",
       "      <td>0</td>\n",
       "    </tr>\n",
       "    <tr>\n",
       "      <th>75</th>\n",
       "      <td>BabyAnimalPics baby monkey bathtime httptco7KP...</td>\n",
       "      <td>2</td>\n",
       "      <td>0</td>\n",
       "    </tr>\n",
       "    <tr>\n",
       "      <th>85</th>\n",
       "      <td>Blackman38Tide queer gaywad zero point seven z...</td>\n",
       "      <td>0</td>\n",
       "      <td>1</td>\n",
       "    </tr>\n",
       "    <tr>\n",
       "      <th>90</th>\n",
       "      <td>CBBaby24 alsarabsss hes beaner smh tell hes me...</td>\n",
       "      <td>0</td>\n",
       "      <td>1</td>\n",
       "    </tr>\n",
       "    <tr>\n",
       "      <th>111</th>\n",
       "      <td>DevilGrimz youre fucking gay blacklisted hoe H...</td>\n",
       "      <td>0</td>\n",
       "      <td>1</td>\n",
       "    </tr>\n",
       "  </tbody>\n",
       "</table>\n",
       "</div>"
      ],
      "text/plain": [
       "                             tweet_edited_with_ratings  class  class_new\n",
       "0    RT woman shouldnt complain cleaning house amp ...      2          0\n",
       "40   momma said pussy cats inside doghouse zero zer...      2          0\n",
       "63   Addicted2Guys SimplyAddictedToGuys httptco1jL4...      2          0\n",
       "66   AllAboutManFeet httptco3gzUpfuMev woof woof ho...      2          0\n",
       "67   Allyhaaaaa Lemmie eat Oreo amp dishes One oreo...      2          0\n",
       "70   ArizonasFinest6 eggplant emoji doey say looked...      2          0\n",
       "75   BabyAnimalPics baby monkey bathtime httptco7KP...      2          0\n",
       "85   Blackman38Tide queer gaywad zero point seven z...      0          1\n",
       "90   CBBaby24 alsarabsss hes beaner smh tell hes me...      0          1\n",
       "111  DevilGrimz youre fucking gay blacklisted hoe H...      0          1"
      ]
     },
     "execution_count": 81,
     "metadata": {},
     "output_type": "execute_result"
    }
   ],
   "source": [
    "df_v4_filtered.head(10)"
   ]
  },
  {
   "cell_type": "code",
   "execution_count": null,
   "id": "5d4f2848",
   "metadata": {},
   "outputs": [],
   "source": []
  },
  {
   "cell_type": "code",
   "execution_count": 82,
   "id": "7a7b83dc",
   "metadata": {},
   "outputs": [],
   "source": [
    "tweet__train,tweet__test,label__train,label__test=train_test_split(df_v4_filtered['tweet_edited_with_ratings'],\n",
    "                                                           df_v4_filtered['class_new'],\n",
    "                                                           test_size=0.25,\n",
    "                                                              stratify=df_v4_filtered['class_new'])"
   ]
  },
  {
   "cell_type": "markdown",
   "id": "d632756c",
   "metadata": {},
   "source": [
    "### Naive Bayes Classifier"
   ]
  },
  {
   "cell_type": "code",
   "execution_count": 83,
   "id": "c2f53e3a",
   "metadata": {},
   "outputs": [
    {
     "name": "stdout",
     "output_type": "stream",
     "text": [
      "[[1000   40]\n",
      " [ 116  242]]\n",
      "\n",
      "\n",
      "              precision    recall  f1-score   support\n",
      "\n",
      "           0       0.90      0.96      0.93      1040\n",
      "           1       0.86      0.68      0.76       358\n",
      "\n",
      "    accuracy                           0.89      1398\n",
      "   macro avg       0.88      0.82      0.84      1398\n",
      "weighted avg       0.89      0.89      0.88      1398\n",
      "\n"
     ]
    }
   ],
   "source": [
    "pipeline = Pipeline([\n",
    "    ('bow', CountVectorizer()),\n",
    "    ('tfidf',TfidfTransformer()),\n",
    "    ('classifier', BernoulliNB())\n",
    "])\n",
    "\n",
    "pipeline.fit(tweet__train,label__train)\n",
    "\n",
    "predictions = pipeline.predict(tweet__test)\n",
    "\n",
    "\n",
    "print(confusion_matrix(label__test, predictions))\n",
    "print('\\n')\n",
    "print(classification_report(label__test, predictions)) "
   ]
  },
  {
   "cell_type": "markdown",
   "id": "9edbea74",
   "metadata": {},
   "source": [
    "### Decision Tree Classifier"
   ]
  },
  {
   "cell_type": "code",
   "execution_count": 84,
   "id": "9b9528eb",
   "metadata": {},
   "outputs": [
    {
     "name": "stdout",
     "output_type": "stream",
     "text": [
      "[[976  64]\n",
      " [ 70 288]]\n",
      "\n",
      "\n",
      "              precision    recall  f1-score   support\n",
      "\n",
      "           0       0.93      0.94      0.94      1040\n",
      "           1       0.82      0.80      0.81       358\n",
      "\n",
      "    accuracy                           0.90      1398\n",
      "   macro avg       0.88      0.87      0.87      1398\n",
      "weighted avg       0.90      0.90      0.90      1398\n",
      "\n"
     ]
    }
   ],
   "source": [
    "pipeline = Pipeline([\n",
    "    ('bow', CountVectorizer()),\n",
    "    ('tfidf',TfidfTransformer()),\n",
    "    ('classifier', DecisionTreeClassifier())\n",
    "])\n",
    "\n",
    "pipeline.fit(tweet__train,label__train)\n",
    "\n",
    "predictions = pipeline.predict(tweet__test)\n",
    "\n",
    "\n",
    "print(confusion_matrix(label__test, predictions))\n",
    "print('\\n')\n",
    "print(classification_report(label__test, predictions))      "
   ]
  },
  {
   "cell_type": "markdown",
   "id": "6bbcead0",
   "metadata": {},
   "source": [
    "### Random Forest Classifier"
   ]
  },
  {
   "cell_type": "code",
   "execution_count": 85,
   "id": "b0f7c3fd",
   "metadata": {},
   "outputs": [
    {
     "name": "stdout",
     "output_type": "stream",
     "text": [
      "[[1011   29]\n",
      " [  93  265]]\n",
      "\n",
      "\n",
      "              precision    recall  f1-score   support\n",
      "\n",
      "           0       0.92      0.97      0.94      1040\n",
      "           1       0.90      0.74      0.81       358\n",
      "\n",
      "    accuracy                           0.91      1398\n",
      "   macro avg       0.91      0.86      0.88      1398\n",
      "weighted avg       0.91      0.91      0.91      1398\n",
      "\n"
     ]
    }
   ],
   "source": [
    "pipeline = Pipeline([\n",
    "    ('bow', CountVectorizer()),\n",
    "    ('tfidf',TfidfTransformer()),\n",
    "    ('classifier', RandomForestClassifier())\n",
    "])\n",
    "\n",
    "pipeline.fit(tweet__train,label__train)\n",
    "\n",
    "predictions = pipeline.predict(tweet__test)\n",
    "\n",
    "\n",
    "print(confusion_matrix(label__test, predictions))\n",
    "print('\\n')\n",
    "print(classification_report(label__test, predictions))   "
   ]
  },
  {
   "cell_type": "markdown",
   "id": "9ed1ba0e",
   "metadata": {},
   "source": [
    "### Support Vector Machines"
   ]
  },
  {
   "cell_type": "code",
   "execution_count": 86,
   "id": "a1c23320",
   "metadata": {},
   "outputs": [
    {
     "name": "stdout",
     "output_type": "stream",
     "text": [
      "[[1017   23]\n",
      " [  93  265]]\n",
      "\n",
      "\n",
      "              precision    recall  f1-score   support\n",
      "\n",
      "           0       0.92      0.98      0.95      1040\n",
      "           1       0.92      0.74      0.82       358\n",
      "\n",
      "    accuracy                           0.92      1398\n",
      "   macro avg       0.92      0.86      0.88      1398\n",
      "weighted avg       0.92      0.92      0.91      1398\n",
      "\n"
     ]
    }
   ],
   "source": [
    "pipeline = Pipeline([\n",
    "    ('bow', CountVectorizer()),\n",
    "    ('tfidf',TfidfTransformer()),\n",
    "    ('classifier', SVC())\n",
    "])\n",
    "\n",
    "pipeline.fit(tweet__train,label__train)\n",
    "\n",
    "predictions = pipeline.predict(tweet__test)\n",
    "\n",
    "\n",
    "print(confusion_matrix(label__test, predictions))\n",
    "print('\\n')\n",
    "print(classification_report(label__test, predictions))   "
   ]
  },
  {
   "cell_type": "code",
   "execution_count": null,
   "id": "6dfde5c4",
   "metadata": {},
   "outputs": [],
   "source": []
  }
 ],
 "metadata": {
  "kernelspec": {
   "display_name": "Python 3.10 (tensorflow)",
   "language": "python",
   "name": "tensorflow"
  },
  "language_info": {
   "codemirror_mode": {
    "name": "ipython",
    "version": 3
   },
   "file_extension": ".py",
   "mimetype": "text/x-python",
   "name": "python",
   "nbconvert_exporter": "python",
   "pygments_lexer": "ipython3",
   "version": "3.10.12"
  }
 },
 "nbformat": 4,
 "nbformat_minor": 5
}
# The one model approach to classify the three groups does not yield good results.
# The champion of the algorithms used is the Decision tree classifier.
# While the model predicts the 'neither' class and 'offensive language' class quite well,
# it does not do well with the minority class - 'hateful speech'

# The two model approach yields better results.
# The champion is the Support Vector Machines algorithm for both model 1 and model 2
